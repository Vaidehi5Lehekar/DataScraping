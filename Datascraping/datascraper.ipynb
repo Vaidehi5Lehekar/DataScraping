{
  "nbformat": 4,
  "nbformat_minor": 0,
  "metadata": {
    "colab": {
      "name": "datascraper.ipynb",
      "provenance": [],
      "collapsed_sections": []
    },
    "kernelspec": {
      "name": "python3",
      "display_name": "Python 3"
    },
    "language_info": {
      "name": "python"
    }
  },
  "cells": [
    {
      "cell_type": "code",
      "source": [
        "!apt update\n",
        "!apt install chromium-chromedriver\n",
        "!pip install selenium"
      ],
      "metadata": {
        "colab": {
          "base_uri": "https://localhost:8080/"
        },
        "id": "FfJsj7jRl9uX",
        "outputId": "517c53fd-e69b-4c36-86e4-5278bc26f168"
      },
      "execution_count": null,
      "outputs": [
        {
          "output_type": "stream",
          "name": "stdout",
          "text": [
            "\u001b[33m\r0% [Working]\u001b[0m\r            \rGet:1 https://cloud.r-project.org/bin/linux/ubuntu bionic-cran40/ InRelease [3,626 B]\n",
            "Ign:2 https://developer.download.nvidia.com/compute/cuda/repos/ubuntu1804/x86_64  InRelease\n",
            "Ign:3 https://developer.download.nvidia.com/compute/machine-learning/repos/ubuntu1804/x86_64  InRelease\n",
            "Hit:4 http://ppa.launchpad.net/c2d4u.team/c2d4u4.0+/ubuntu bionic InRelease\n",
            "Hit:5 https://developer.download.nvidia.com/compute/cuda/repos/ubuntu1804/x86_64  Release\n",
            "Hit:6 https://developer.download.nvidia.com/compute/machine-learning/repos/ubuntu1804/x86_64  Release\n",
            "Hit:7 http://archive.ubuntu.com/ubuntu bionic InRelease\n",
            "Get:8 http://security.ubuntu.com/ubuntu bionic-security InRelease [88.7 kB]\n",
            "Get:9 http://archive.ubuntu.com/ubuntu bionic-updates InRelease [88.7 kB]\n",
            "Hit:10 http://ppa.launchpad.net/cran/libgit2/ubuntu bionic InRelease\n",
            "Hit:11 http://ppa.launchpad.net/deadsnakes/ppa/ubuntu bionic InRelease\n",
            "Get:13 http://archive.ubuntu.com/ubuntu bionic-backports InRelease [74.6 kB]\n",
            "Hit:14 http://ppa.launchpad.net/graphics-drivers/ppa/ubuntu bionic InRelease\n",
            "Get:16 http://archive.ubuntu.com/ubuntu bionic-updates/universe amd64 Packages [2,244 kB]\n",
            "Get:17 http://archive.ubuntu.com/ubuntu bionic-updates/main amd64 Packages [2,983 kB]\n",
            "Fetched 5,483 kB in 3s (1,750 kB/s)\n",
            "Reading package lists... Done\n",
            "Building dependency tree       \n",
            "Reading state information... Done\n",
            "75 packages can be upgraded. Run 'apt list --upgradable' to see them.\n",
            "Reading package lists... Done\n",
            "Building dependency tree       \n",
            "Reading state information... Done\n",
            "chromium-chromedriver is already the newest version (97.0.4692.71-0ubuntu0.18.04.1).\n",
            "0 upgraded, 0 newly installed, 0 to remove and 75 not upgraded.\n",
            "Requirement already satisfied: selenium in /usr/local/lib/python3.7/dist-packages (4.1.0)\n",
            "Requirement already satisfied: trio-websocket~=0.9 in /usr/local/lib/python3.7/dist-packages (from selenium) (0.9.2)\n",
            "Requirement already satisfied: urllib3[secure]~=1.26 in /usr/local/lib/python3.7/dist-packages (from selenium) (1.26.8)\n",
            "Requirement already satisfied: trio~=0.17 in /usr/local/lib/python3.7/dist-packages (from selenium) (0.19.0)\n",
            "Requirement already satisfied: async-generator>=1.9 in /usr/local/lib/python3.7/dist-packages (from trio~=0.17->selenium) (1.10)\n",
            "Requirement already satisfied: sortedcontainers in /usr/local/lib/python3.7/dist-packages (from trio~=0.17->selenium) (2.4.0)\n",
            "Requirement already satisfied: attrs>=19.2.0 in /usr/local/lib/python3.7/dist-packages (from trio~=0.17->selenium) (21.4.0)\n",
            "Requirement already satisfied: outcome in /usr/local/lib/python3.7/dist-packages (from trio~=0.17->selenium) (1.1.0)\n",
            "Requirement already satisfied: sniffio in /usr/local/lib/python3.7/dist-packages (from trio~=0.17->selenium) (1.2.0)\n",
            "Requirement already satisfied: idna in /usr/local/lib/python3.7/dist-packages (from trio~=0.17->selenium) (2.10)\n",
            "Requirement already satisfied: wsproto>=0.14 in /usr/local/lib/python3.7/dist-packages (from trio-websocket~=0.9->selenium) (1.0.0)\n",
            "Requirement already satisfied: pyOpenSSL>=0.14 in /usr/local/lib/python3.7/dist-packages (from urllib3[secure]~=1.26->selenium) (22.0.0)\n",
            "Requirement already satisfied: certifi in /usr/local/lib/python3.7/dist-packages (from urllib3[secure]~=1.26->selenium) (2021.10.8)\n",
            "Requirement already satisfied: cryptography>=1.3.4 in /usr/local/lib/python3.7/dist-packages (from urllib3[secure]~=1.26->selenium) (36.0.1)\n",
            "Requirement already satisfied: cffi>=1.12 in /usr/local/lib/python3.7/dist-packages (from cryptography>=1.3.4->urllib3[secure]~=1.26->selenium) (1.15.0)\n",
            "Requirement already satisfied: pycparser in /usr/local/lib/python3.7/dist-packages (from cffi>=1.12->cryptography>=1.3.4->urllib3[secure]~=1.26->selenium) (2.21)\n",
            "Requirement already satisfied: h11<1,>=0.9.0 in /usr/local/lib/python3.7/dist-packages (from wsproto>=0.14->trio-websocket~=0.9->selenium) (0.13.0)\n",
            "Requirement already satisfied: typing-extensions in /usr/local/lib/python3.7/dist-packages (from h11<1,>=0.9.0->wsproto>=0.14->trio-websocket~=0.9->selenium) (3.10.0.2)\n"
          ]
        }
      ]
    },
    {
      "cell_type": "code",
      "execution_count": null,
      "metadata": {
        "id": "1V3VcBGuRvaK"
      },
      "outputs": [],
      "source": [
        "import requests\n",
        "from bs4 import BeautifulSoup\n",
        "import csv \n",
        "from selenium import webdriver\n",
        "import itertools\n",
        "import time"
      ]
    },
    {
      "cell_type": "code",
      "source": [
        "options = webdriver.ChromeOptions()\n",
        "options.add_argument('--no-sandbox')\n",
        "options.add_argument('--headless')\n",
        "options.add_argument('--disable-dev-shm-usage')"
      ],
      "metadata": {
        "id": "gDt0EhZYLAQ-"
      },
      "execution_count": null,
      "outputs": []
    },
    {
      "cell_type": "code",
      "source": [
        "def page_sourcer(url, page):\n",
        "  driver = webdriver.Chrome('chromedriver', chrome_options=options)\n",
        "  \n",
        "  print(url)\n",
        "\n",
        "  driver.get(url)\n",
        "  phone_buttons = driver.find_elements_by_class_name(\"hz-pro-search-result__contact-info__cover\")\n",
        "  print(len(phone_buttons))\n",
        "  for x in range(len(phone_buttons)):\n",
        "    if phone_buttons[x].is_displayed():\n",
        "      driver.execute_script(\"arguments[0].click();\", phone_buttons[x])\n",
        "      time.sleep(1)\n",
        "  return driver.page_source"
      ],
      "metadata": {
        "id": "WqglwhQiZmKm"
      },
      "execution_count": null,
      "outputs": []
    },
    {
      "cell_type": "code",
      "source": [
        "def scraper(url, page):\n",
        "  entries =[]\n",
        "  \n",
        "  while page != 49:\n",
        "    multiple = 15 *(page-1)\n",
        "    URL = f\"{url}/p/{multiple}\"\n",
        "    page_source = page_sourcer(URL, page)\n",
        "    \n",
        "    soup = BeautifulSoup(page_source,\"lxml\")\n",
        "    name_table = soup.find_all(\"div\", class_= \"hz-pro-profile-info-rating__link\")\n",
        "    phone_table = soup.find_all(\"div\", class_=\"hz-pro-search-result__right-info__contact-info\")\n",
        "    address_table = soup.find_all(\"div\", class_=\"hz-pro-search-result__right-info__full-address\")\n",
        "    \n",
        "    for name, phone, address in zip(name_table, phone_table, address_table):\n",
        "      entry = {}\n",
        "      \n",
        "      if name.find(\"span\", class_= 'mlm header-5 text-unbold') is None:\n",
        "        entry['Name'] = \"None\"\n",
        "      else:\n",
        "        entry['Name']= name.find(\"span\", class_= 'mlm header-5 text-unbold').text\n",
        "      \n",
        "      if phone.find(\"span\" , class_='hz-pro-search-result__contact-info') is None:\n",
        "        entry['Contact No'] = \"None\"\n",
        "      else:\n",
        "        entry['Contact No']= phone.find(\"span\" , class_='hz-pro-search-result__contact-info').text\n",
        "\n",
        "      if address.find(\"span\" , class_='hz-pro-search-result__location-info__text') is None:\n",
        "        entry['Address'] = \"None\"\n",
        "      else:\n",
        "        entry['Address']= address.find(\"span\" , class_='hz-pro-search-result__location-info__text').text\n",
        "      \n",
        "      entries.append(entry)\n",
        "    page = page+1\n",
        "  return entries"
      ],
      "metadata": {
        "id": "yVvckEobRy2S"
      },
      "execution_count": null,
      "outputs": []
    },
    {
      "cell_type": "code",
      "source": [
        "url ='https://www.houzz.in/professionals/civil-engineers-and-contractors/c/Tamil-Nadu'\n",
        "page = 2\n",
        "result = scraper(url, page)"
      ],
      "metadata": {
        "colab": {
          "base_uri": "https://localhost:8080/"
        },
        "id": "xiHZHGkzR2Yx",
        "outputId": "18ea0e8a-b5c3-4d19-8cbb-d06ec33818c0"
      },
      "execution_count": null,
      "outputs": [
        {
          "output_type": "stream",
          "name": "stderr",
          "text": [
            "/usr/local/lib/python3.7/dist-packages/ipykernel_launcher.py:2: DeprecationWarning: use options instead of chrome_options\n",
            "  \n"
          ]
        },
        {
          "output_type": "stream",
          "name": "stdout",
          "text": [
            "https://www.houzz.in/professionals/civil-engineers-and-contractors/c/Tamil-Nadu/p/15\n"
          ]
        },
        {
          "output_type": "stream",
          "name": "stderr",
          "text": [
            "/usr/local/lib/python3.7/dist-packages/ipykernel_launcher.py:7: DeprecationWarning: find_elements_by_* commands are deprecated. Please use find_elements() instead\n",
            "  import sys\n"
          ]
        },
        {
          "output_type": "stream",
          "name": "stdout",
          "text": [
            "14\n"
          ]
        },
        {
          "output_type": "stream",
          "name": "stderr",
          "text": [
            "/usr/local/lib/python3.7/dist-packages/ipykernel_launcher.py:2: DeprecationWarning: use options instead of chrome_options\n",
            "  \n"
          ]
        },
        {
          "output_type": "stream",
          "name": "stdout",
          "text": [
            "https://www.houzz.in/professionals/civil-engineers-and-contractors/c/Tamil-Nadu/p/30\n"
          ]
        },
        {
          "output_type": "stream",
          "name": "stderr",
          "text": [
            "/usr/local/lib/python3.7/dist-packages/ipykernel_launcher.py:7: DeprecationWarning: find_elements_by_* commands are deprecated. Please use find_elements() instead\n",
            "  import sys\n"
          ]
        },
        {
          "output_type": "stream",
          "name": "stdout",
          "text": [
            "15\n"
          ]
        },
        {
          "output_type": "stream",
          "name": "stderr",
          "text": [
            "/usr/local/lib/python3.7/dist-packages/ipykernel_launcher.py:2: DeprecationWarning: use options instead of chrome_options\n",
            "  \n"
          ]
        },
        {
          "output_type": "stream",
          "name": "stdout",
          "text": [
            "https://www.houzz.in/professionals/civil-engineers-and-contractors/c/Tamil-Nadu/p/45\n"
          ]
        },
        {
          "output_type": "stream",
          "name": "stderr",
          "text": [
            "/usr/local/lib/python3.7/dist-packages/ipykernel_launcher.py:7: DeprecationWarning: find_elements_by_* commands are deprecated. Please use find_elements() instead\n",
            "  import sys\n"
          ]
        },
        {
          "output_type": "stream",
          "name": "stdout",
          "text": [
            "15\n"
          ]
        },
        {
          "output_type": "stream",
          "name": "stderr",
          "text": [
            "/usr/local/lib/python3.7/dist-packages/ipykernel_launcher.py:2: DeprecationWarning: use options instead of chrome_options\n",
            "  \n"
          ]
        },
        {
          "output_type": "stream",
          "name": "stdout",
          "text": [
            "https://www.houzz.in/professionals/civil-engineers-and-contractors/c/Tamil-Nadu/p/60\n"
          ]
        },
        {
          "output_type": "stream",
          "name": "stderr",
          "text": [
            "/usr/local/lib/python3.7/dist-packages/ipykernel_launcher.py:7: DeprecationWarning: find_elements_by_* commands are deprecated. Please use find_elements() instead\n",
            "  import sys\n"
          ]
        },
        {
          "output_type": "stream",
          "name": "stdout",
          "text": [
            "13\n"
          ]
        },
        {
          "output_type": "stream",
          "name": "stderr",
          "text": [
            "/usr/local/lib/python3.7/dist-packages/ipykernel_launcher.py:2: DeprecationWarning: use options instead of chrome_options\n",
            "  \n"
          ]
        },
        {
          "output_type": "stream",
          "name": "stdout",
          "text": [
            "https://www.houzz.in/professionals/civil-engineers-and-contractors/c/Tamil-Nadu/p/75\n"
          ]
        },
        {
          "output_type": "stream",
          "name": "stderr",
          "text": [
            "/usr/local/lib/python3.7/dist-packages/ipykernel_launcher.py:7: DeprecationWarning: find_elements_by_* commands are deprecated. Please use find_elements() instead\n",
            "  import sys\n"
          ]
        },
        {
          "output_type": "stream",
          "name": "stdout",
          "text": [
            "15\n"
          ]
        },
        {
          "output_type": "stream",
          "name": "stderr",
          "text": [
            "/usr/local/lib/python3.7/dist-packages/ipykernel_launcher.py:2: DeprecationWarning: use options instead of chrome_options\n",
            "  \n"
          ]
        },
        {
          "output_type": "stream",
          "name": "stdout",
          "text": [
            "https://www.houzz.in/professionals/civil-engineers-and-contractors/c/Tamil-Nadu/p/90\n"
          ]
        },
        {
          "output_type": "stream",
          "name": "stderr",
          "text": [
            "/usr/local/lib/python3.7/dist-packages/ipykernel_launcher.py:7: DeprecationWarning: find_elements_by_* commands are deprecated. Please use find_elements() instead\n",
            "  import sys\n"
          ]
        },
        {
          "output_type": "stream",
          "name": "stdout",
          "text": [
            "15\n"
          ]
        },
        {
          "output_type": "stream",
          "name": "stderr",
          "text": [
            "/usr/local/lib/python3.7/dist-packages/ipykernel_launcher.py:2: DeprecationWarning: use options instead of chrome_options\n",
            "  \n"
          ]
        },
        {
          "output_type": "stream",
          "name": "stdout",
          "text": [
            "https://www.houzz.in/professionals/civil-engineers-and-contractors/c/Tamil-Nadu/p/105\n"
          ]
        },
        {
          "output_type": "stream",
          "name": "stderr",
          "text": [
            "/usr/local/lib/python3.7/dist-packages/ipykernel_launcher.py:7: DeprecationWarning: find_elements_by_* commands are deprecated. Please use find_elements() instead\n",
            "  import sys\n"
          ]
        },
        {
          "output_type": "stream",
          "name": "stdout",
          "text": [
            "15\n"
          ]
        },
        {
          "output_type": "stream",
          "name": "stderr",
          "text": [
            "/usr/local/lib/python3.7/dist-packages/ipykernel_launcher.py:2: DeprecationWarning: use options instead of chrome_options\n",
            "  \n"
          ]
        },
        {
          "output_type": "stream",
          "name": "stdout",
          "text": [
            "https://www.houzz.in/professionals/civil-engineers-and-contractors/c/Tamil-Nadu/p/120\n"
          ]
        },
        {
          "output_type": "stream",
          "name": "stderr",
          "text": [
            "/usr/local/lib/python3.7/dist-packages/ipykernel_launcher.py:7: DeprecationWarning: find_elements_by_* commands are deprecated. Please use find_elements() instead\n",
            "  import sys\n"
          ]
        },
        {
          "output_type": "stream",
          "name": "stdout",
          "text": [
            "15\n"
          ]
        },
        {
          "output_type": "stream",
          "name": "stderr",
          "text": [
            "/usr/local/lib/python3.7/dist-packages/ipykernel_launcher.py:2: DeprecationWarning: use options instead of chrome_options\n",
            "  \n"
          ]
        },
        {
          "output_type": "stream",
          "name": "stdout",
          "text": [
            "https://www.houzz.in/professionals/civil-engineers-and-contractors/c/Tamil-Nadu/p/135\n"
          ]
        },
        {
          "output_type": "stream",
          "name": "stderr",
          "text": [
            "/usr/local/lib/python3.7/dist-packages/ipykernel_launcher.py:7: DeprecationWarning: find_elements_by_* commands are deprecated. Please use find_elements() instead\n",
            "  import sys\n"
          ]
        },
        {
          "output_type": "stream",
          "name": "stdout",
          "text": [
            "15\n"
          ]
        },
        {
          "output_type": "stream",
          "name": "stderr",
          "text": [
            "/usr/local/lib/python3.7/dist-packages/ipykernel_launcher.py:2: DeprecationWarning: use options instead of chrome_options\n",
            "  \n"
          ]
        },
        {
          "output_type": "stream",
          "name": "stdout",
          "text": [
            "https://www.houzz.in/professionals/civil-engineers-and-contractors/c/Tamil-Nadu/p/150\n"
          ]
        },
        {
          "output_type": "stream",
          "name": "stderr",
          "text": [
            "/usr/local/lib/python3.7/dist-packages/ipykernel_launcher.py:7: DeprecationWarning: find_elements_by_* commands are deprecated. Please use find_elements() instead\n",
            "  import sys\n"
          ]
        },
        {
          "output_type": "stream",
          "name": "stdout",
          "text": [
            "15\n"
          ]
        },
        {
          "output_type": "stream",
          "name": "stderr",
          "text": [
            "/usr/local/lib/python3.7/dist-packages/ipykernel_launcher.py:2: DeprecationWarning: use options instead of chrome_options\n",
            "  \n"
          ]
        },
        {
          "output_type": "stream",
          "name": "stdout",
          "text": [
            "https://www.houzz.in/professionals/civil-engineers-and-contractors/c/Tamil-Nadu/p/165\n"
          ]
        },
        {
          "output_type": "stream",
          "name": "stderr",
          "text": [
            "/usr/local/lib/python3.7/dist-packages/ipykernel_launcher.py:7: DeprecationWarning: find_elements_by_* commands are deprecated. Please use find_elements() instead\n",
            "  import sys\n"
          ]
        },
        {
          "output_type": "stream",
          "name": "stdout",
          "text": [
            "15\n"
          ]
        },
        {
          "output_type": "stream",
          "name": "stderr",
          "text": [
            "/usr/local/lib/python3.7/dist-packages/ipykernel_launcher.py:2: DeprecationWarning: use options instead of chrome_options\n",
            "  \n"
          ]
        },
        {
          "output_type": "stream",
          "name": "stdout",
          "text": [
            "https://www.houzz.in/professionals/civil-engineers-and-contractors/c/Tamil-Nadu/p/180\n"
          ]
        },
        {
          "output_type": "stream",
          "name": "stderr",
          "text": [
            "/usr/local/lib/python3.7/dist-packages/ipykernel_launcher.py:7: DeprecationWarning: find_elements_by_* commands are deprecated. Please use find_elements() instead\n",
            "  import sys\n"
          ]
        },
        {
          "output_type": "stream",
          "name": "stdout",
          "text": [
            "15\n"
          ]
        },
        {
          "output_type": "stream",
          "name": "stderr",
          "text": [
            "/usr/local/lib/python3.7/dist-packages/ipykernel_launcher.py:2: DeprecationWarning: use options instead of chrome_options\n",
            "  \n"
          ]
        },
        {
          "output_type": "stream",
          "name": "stdout",
          "text": [
            "https://www.houzz.in/professionals/civil-engineers-and-contractors/c/Tamil-Nadu/p/195\n"
          ]
        },
        {
          "output_type": "stream",
          "name": "stderr",
          "text": [
            "/usr/local/lib/python3.7/dist-packages/ipykernel_launcher.py:7: DeprecationWarning: find_elements_by_* commands are deprecated. Please use find_elements() instead\n",
            "  import sys\n"
          ]
        },
        {
          "output_type": "stream",
          "name": "stdout",
          "text": [
            "13\n"
          ]
        },
        {
          "output_type": "stream",
          "name": "stderr",
          "text": [
            "/usr/local/lib/python3.7/dist-packages/ipykernel_launcher.py:2: DeprecationWarning: use options instead of chrome_options\n",
            "  \n"
          ]
        },
        {
          "output_type": "stream",
          "name": "stdout",
          "text": [
            "https://www.houzz.in/professionals/civil-engineers-and-contractors/c/Tamil-Nadu/p/210\n"
          ]
        },
        {
          "output_type": "stream",
          "name": "stderr",
          "text": [
            "/usr/local/lib/python3.7/dist-packages/ipykernel_launcher.py:7: DeprecationWarning: find_elements_by_* commands are deprecated. Please use find_elements() instead\n",
            "  import sys\n"
          ]
        },
        {
          "output_type": "stream",
          "name": "stdout",
          "text": [
            "15\n"
          ]
        },
        {
          "output_type": "stream",
          "name": "stderr",
          "text": [
            "/usr/local/lib/python3.7/dist-packages/ipykernel_launcher.py:2: DeprecationWarning: use options instead of chrome_options\n",
            "  \n"
          ]
        },
        {
          "output_type": "stream",
          "name": "stdout",
          "text": [
            "https://www.houzz.in/professionals/civil-engineers-and-contractors/c/Tamil-Nadu/p/225\n"
          ]
        },
        {
          "output_type": "stream",
          "name": "stderr",
          "text": [
            "/usr/local/lib/python3.7/dist-packages/ipykernel_launcher.py:7: DeprecationWarning: find_elements_by_* commands are deprecated. Please use find_elements() instead\n",
            "  import sys\n"
          ]
        },
        {
          "output_type": "stream",
          "name": "stdout",
          "text": [
            "15\n"
          ]
        },
        {
          "output_type": "stream",
          "name": "stderr",
          "text": [
            "/usr/local/lib/python3.7/dist-packages/ipykernel_launcher.py:2: DeprecationWarning: use options instead of chrome_options\n",
            "  \n"
          ]
        },
        {
          "output_type": "stream",
          "name": "stdout",
          "text": [
            "https://www.houzz.in/professionals/civil-engineers-and-contractors/c/Tamil-Nadu/p/240\n"
          ]
        },
        {
          "output_type": "stream",
          "name": "stderr",
          "text": [
            "/usr/local/lib/python3.7/dist-packages/ipykernel_launcher.py:7: DeprecationWarning: find_elements_by_* commands are deprecated. Please use find_elements() instead\n",
            "  import sys\n"
          ]
        },
        {
          "output_type": "stream",
          "name": "stdout",
          "text": [
            "14\n"
          ]
        },
        {
          "output_type": "stream",
          "name": "stderr",
          "text": [
            "/usr/local/lib/python3.7/dist-packages/ipykernel_launcher.py:2: DeprecationWarning: use options instead of chrome_options\n",
            "  \n"
          ]
        },
        {
          "output_type": "stream",
          "name": "stdout",
          "text": [
            "https://www.houzz.in/professionals/civil-engineers-and-contractors/c/Tamil-Nadu/p/255\n"
          ]
        },
        {
          "output_type": "stream",
          "name": "stderr",
          "text": [
            "/usr/local/lib/python3.7/dist-packages/ipykernel_launcher.py:7: DeprecationWarning: find_elements_by_* commands are deprecated. Please use find_elements() instead\n",
            "  import sys\n"
          ]
        },
        {
          "output_type": "stream",
          "name": "stdout",
          "text": [
            "15\n"
          ]
        },
        {
          "output_type": "stream",
          "name": "stderr",
          "text": [
            "/usr/local/lib/python3.7/dist-packages/ipykernel_launcher.py:2: DeprecationWarning: use options instead of chrome_options\n",
            "  \n"
          ]
        },
        {
          "output_type": "stream",
          "name": "stdout",
          "text": [
            "https://www.houzz.in/professionals/civil-engineers-and-contractors/c/Tamil-Nadu/p/270\n"
          ]
        },
        {
          "output_type": "stream",
          "name": "stderr",
          "text": [
            "/usr/local/lib/python3.7/dist-packages/ipykernel_launcher.py:7: DeprecationWarning: find_elements_by_* commands are deprecated. Please use find_elements() instead\n",
            "  import sys\n"
          ]
        },
        {
          "output_type": "stream",
          "name": "stdout",
          "text": [
            "15\n"
          ]
        },
        {
          "output_type": "stream",
          "name": "stderr",
          "text": [
            "/usr/local/lib/python3.7/dist-packages/ipykernel_launcher.py:2: DeprecationWarning: use options instead of chrome_options\n",
            "  \n"
          ]
        },
        {
          "output_type": "stream",
          "name": "stdout",
          "text": [
            "https://www.houzz.in/professionals/civil-engineers-and-contractors/c/Tamil-Nadu/p/285\n"
          ]
        },
        {
          "output_type": "stream",
          "name": "stderr",
          "text": [
            "/usr/local/lib/python3.7/dist-packages/ipykernel_launcher.py:7: DeprecationWarning: find_elements_by_* commands are deprecated. Please use find_elements() instead\n",
            "  import sys\n"
          ]
        },
        {
          "output_type": "stream",
          "name": "stdout",
          "text": [
            "15\n"
          ]
        },
        {
          "output_type": "stream",
          "name": "stderr",
          "text": [
            "/usr/local/lib/python3.7/dist-packages/ipykernel_launcher.py:2: DeprecationWarning: use options instead of chrome_options\n",
            "  \n"
          ]
        },
        {
          "output_type": "stream",
          "name": "stdout",
          "text": [
            "https://www.houzz.in/professionals/civil-engineers-and-contractors/c/Tamil-Nadu/p/300\n"
          ]
        },
        {
          "output_type": "stream",
          "name": "stderr",
          "text": [
            "/usr/local/lib/python3.7/dist-packages/ipykernel_launcher.py:7: DeprecationWarning: find_elements_by_* commands are deprecated. Please use find_elements() instead\n",
            "  import sys\n"
          ]
        },
        {
          "output_type": "stream",
          "name": "stdout",
          "text": [
            "14\n"
          ]
        },
        {
          "output_type": "stream",
          "name": "stderr",
          "text": [
            "/usr/local/lib/python3.7/dist-packages/ipykernel_launcher.py:2: DeprecationWarning: use options instead of chrome_options\n",
            "  \n"
          ]
        },
        {
          "output_type": "stream",
          "name": "stdout",
          "text": [
            "https://www.houzz.in/professionals/civil-engineers-and-contractors/c/Tamil-Nadu/p/315\n"
          ]
        },
        {
          "output_type": "stream",
          "name": "stderr",
          "text": [
            "/usr/local/lib/python3.7/dist-packages/ipykernel_launcher.py:7: DeprecationWarning: find_elements_by_* commands are deprecated. Please use find_elements() instead\n",
            "  import sys\n"
          ]
        },
        {
          "output_type": "stream",
          "name": "stdout",
          "text": [
            "15\n"
          ]
        },
        {
          "output_type": "stream",
          "name": "stderr",
          "text": [
            "/usr/local/lib/python3.7/dist-packages/ipykernel_launcher.py:2: DeprecationWarning: use options instead of chrome_options\n",
            "  \n"
          ]
        },
        {
          "output_type": "stream",
          "name": "stdout",
          "text": [
            "https://www.houzz.in/professionals/civil-engineers-and-contractors/c/Tamil-Nadu/p/330\n"
          ]
        },
        {
          "output_type": "stream",
          "name": "stderr",
          "text": [
            "/usr/local/lib/python3.7/dist-packages/ipykernel_launcher.py:7: DeprecationWarning: find_elements_by_* commands are deprecated. Please use find_elements() instead\n",
            "  import sys\n"
          ]
        },
        {
          "output_type": "stream",
          "name": "stdout",
          "text": [
            "14\n"
          ]
        },
        {
          "output_type": "stream",
          "name": "stderr",
          "text": [
            "/usr/local/lib/python3.7/dist-packages/ipykernel_launcher.py:2: DeprecationWarning: use options instead of chrome_options\n",
            "  \n"
          ]
        },
        {
          "output_type": "stream",
          "name": "stdout",
          "text": [
            "https://www.houzz.in/professionals/civil-engineers-and-contractors/c/Tamil-Nadu/p/345\n"
          ]
        },
        {
          "output_type": "stream",
          "name": "stderr",
          "text": [
            "/usr/local/lib/python3.7/dist-packages/ipykernel_launcher.py:7: DeprecationWarning: find_elements_by_* commands are deprecated. Please use find_elements() instead\n",
            "  import sys\n"
          ]
        },
        {
          "output_type": "stream",
          "name": "stdout",
          "text": [
            "15\n"
          ]
        },
        {
          "output_type": "stream",
          "name": "stderr",
          "text": [
            "/usr/local/lib/python3.7/dist-packages/ipykernel_launcher.py:2: DeprecationWarning: use options instead of chrome_options\n",
            "  \n"
          ]
        },
        {
          "output_type": "stream",
          "name": "stdout",
          "text": [
            "https://www.houzz.in/professionals/civil-engineers-and-contractors/c/Tamil-Nadu/p/360\n"
          ]
        },
        {
          "output_type": "stream",
          "name": "stderr",
          "text": [
            "/usr/local/lib/python3.7/dist-packages/ipykernel_launcher.py:7: DeprecationWarning: find_elements_by_* commands are deprecated. Please use find_elements() instead\n",
            "  import sys\n"
          ]
        },
        {
          "output_type": "stream",
          "name": "stdout",
          "text": [
            "15\n"
          ]
        },
        {
          "output_type": "stream",
          "name": "stderr",
          "text": [
            "/usr/local/lib/python3.7/dist-packages/ipykernel_launcher.py:2: DeprecationWarning: use options instead of chrome_options\n",
            "  \n"
          ]
        },
        {
          "output_type": "stream",
          "name": "stdout",
          "text": [
            "https://www.houzz.in/professionals/civil-engineers-and-contractors/c/Tamil-Nadu/p/375\n"
          ]
        },
        {
          "output_type": "stream",
          "name": "stderr",
          "text": [
            "/usr/local/lib/python3.7/dist-packages/ipykernel_launcher.py:7: DeprecationWarning: find_elements_by_* commands are deprecated. Please use find_elements() instead\n",
            "  import sys\n"
          ]
        },
        {
          "output_type": "stream",
          "name": "stdout",
          "text": [
            "15\n"
          ]
        },
        {
          "output_type": "stream",
          "name": "stderr",
          "text": [
            "/usr/local/lib/python3.7/dist-packages/ipykernel_launcher.py:2: DeprecationWarning: use options instead of chrome_options\n",
            "  \n"
          ]
        },
        {
          "output_type": "stream",
          "name": "stdout",
          "text": [
            "https://www.houzz.in/professionals/civil-engineers-and-contractors/c/Tamil-Nadu/p/390\n"
          ]
        },
        {
          "output_type": "stream",
          "name": "stderr",
          "text": [
            "/usr/local/lib/python3.7/dist-packages/ipykernel_launcher.py:7: DeprecationWarning: find_elements_by_* commands are deprecated. Please use find_elements() instead\n",
            "  import sys\n"
          ]
        },
        {
          "output_type": "stream",
          "name": "stdout",
          "text": [
            "14\n"
          ]
        },
        {
          "output_type": "stream",
          "name": "stderr",
          "text": [
            "/usr/local/lib/python3.7/dist-packages/ipykernel_launcher.py:2: DeprecationWarning: use options instead of chrome_options\n",
            "  \n"
          ]
        },
        {
          "output_type": "stream",
          "name": "stdout",
          "text": [
            "https://www.houzz.in/professionals/civil-engineers-and-contractors/c/Tamil-Nadu/p/405\n"
          ]
        },
        {
          "output_type": "stream",
          "name": "stderr",
          "text": [
            "/usr/local/lib/python3.7/dist-packages/ipykernel_launcher.py:7: DeprecationWarning: find_elements_by_* commands are deprecated. Please use find_elements() instead\n",
            "  import sys\n"
          ]
        },
        {
          "output_type": "stream",
          "name": "stdout",
          "text": [
            "13\n"
          ]
        },
        {
          "output_type": "stream",
          "name": "stderr",
          "text": [
            "/usr/local/lib/python3.7/dist-packages/ipykernel_launcher.py:2: DeprecationWarning: use options instead of chrome_options\n",
            "  \n"
          ]
        },
        {
          "output_type": "stream",
          "name": "stdout",
          "text": [
            "https://www.houzz.in/professionals/civil-engineers-and-contractors/c/Tamil-Nadu/p/420\n"
          ]
        },
        {
          "output_type": "stream",
          "name": "stderr",
          "text": [
            "/usr/local/lib/python3.7/dist-packages/ipykernel_launcher.py:7: DeprecationWarning: find_elements_by_* commands are deprecated. Please use find_elements() instead\n",
            "  import sys\n"
          ]
        },
        {
          "output_type": "stream",
          "name": "stdout",
          "text": [
            "15\n"
          ]
        },
        {
          "output_type": "stream",
          "name": "stderr",
          "text": [
            "/usr/local/lib/python3.7/dist-packages/ipykernel_launcher.py:2: DeprecationWarning: use options instead of chrome_options\n",
            "  \n"
          ]
        },
        {
          "output_type": "stream",
          "name": "stdout",
          "text": [
            "https://www.houzz.in/professionals/civil-engineers-and-contractors/c/Tamil-Nadu/p/435\n"
          ]
        },
        {
          "output_type": "stream",
          "name": "stderr",
          "text": [
            "/usr/local/lib/python3.7/dist-packages/ipykernel_launcher.py:7: DeprecationWarning: find_elements_by_* commands are deprecated. Please use find_elements() instead\n",
            "  import sys\n"
          ]
        },
        {
          "output_type": "stream",
          "name": "stdout",
          "text": [
            "15\n"
          ]
        },
        {
          "output_type": "stream",
          "name": "stderr",
          "text": [
            "/usr/local/lib/python3.7/dist-packages/ipykernel_launcher.py:2: DeprecationWarning: use options instead of chrome_options\n",
            "  \n"
          ]
        },
        {
          "output_type": "stream",
          "name": "stdout",
          "text": [
            "https://www.houzz.in/professionals/civil-engineers-and-contractors/c/Tamil-Nadu/p/450\n"
          ]
        },
        {
          "output_type": "stream",
          "name": "stderr",
          "text": [
            "/usr/local/lib/python3.7/dist-packages/ipykernel_launcher.py:7: DeprecationWarning: find_elements_by_* commands are deprecated. Please use find_elements() instead\n",
            "  import sys\n"
          ]
        },
        {
          "output_type": "stream",
          "name": "stdout",
          "text": [
            "15\n"
          ]
        },
        {
          "output_type": "stream",
          "name": "stderr",
          "text": [
            "/usr/local/lib/python3.7/dist-packages/ipykernel_launcher.py:2: DeprecationWarning: use options instead of chrome_options\n",
            "  \n"
          ]
        },
        {
          "output_type": "stream",
          "name": "stdout",
          "text": [
            "https://www.houzz.in/professionals/civil-engineers-and-contractors/c/Tamil-Nadu/p/465\n"
          ]
        },
        {
          "output_type": "stream",
          "name": "stderr",
          "text": [
            "/usr/local/lib/python3.7/dist-packages/ipykernel_launcher.py:7: DeprecationWarning: find_elements_by_* commands are deprecated. Please use find_elements() instead\n",
            "  import sys\n"
          ]
        },
        {
          "output_type": "stream",
          "name": "stdout",
          "text": [
            "15\n"
          ]
        },
        {
          "output_type": "stream",
          "name": "stderr",
          "text": [
            "/usr/local/lib/python3.7/dist-packages/ipykernel_launcher.py:2: DeprecationWarning: use options instead of chrome_options\n",
            "  \n"
          ]
        },
        {
          "output_type": "stream",
          "name": "stdout",
          "text": [
            "https://www.houzz.in/professionals/civil-engineers-and-contractors/c/Tamil-Nadu/p/480\n"
          ]
        },
        {
          "output_type": "stream",
          "name": "stderr",
          "text": [
            "/usr/local/lib/python3.7/dist-packages/ipykernel_launcher.py:7: DeprecationWarning: find_elements_by_* commands are deprecated. Please use find_elements() instead\n",
            "  import sys\n"
          ]
        },
        {
          "output_type": "stream",
          "name": "stdout",
          "text": [
            "13\n"
          ]
        },
        {
          "output_type": "stream",
          "name": "stderr",
          "text": [
            "/usr/local/lib/python3.7/dist-packages/ipykernel_launcher.py:2: DeprecationWarning: use options instead of chrome_options\n",
            "  \n"
          ]
        },
        {
          "output_type": "stream",
          "name": "stdout",
          "text": [
            "https://www.houzz.in/professionals/civil-engineers-and-contractors/c/Tamil-Nadu/p/495\n"
          ]
        },
        {
          "output_type": "stream",
          "name": "stderr",
          "text": [
            "/usr/local/lib/python3.7/dist-packages/ipykernel_launcher.py:7: DeprecationWarning: find_elements_by_* commands are deprecated. Please use find_elements() instead\n",
            "  import sys\n"
          ]
        },
        {
          "output_type": "stream",
          "name": "stdout",
          "text": [
            "15\n"
          ]
        },
        {
          "output_type": "stream",
          "name": "stderr",
          "text": [
            "/usr/local/lib/python3.7/dist-packages/ipykernel_launcher.py:2: DeprecationWarning: use options instead of chrome_options\n",
            "  \n"
          ]
        },
        {
          "output_type": "stream",
          "name": "stdout",
          "text": [
            "https://www.houzz.in/professionals/civil-engineers-and-contractors/c/Tamil-Nadu/p/510\n"
          ]
        },
        {
          "output_type": "stream",
          "name": "stderr",
          "text": [
            "/usr/local/lib/python3.7/dist-packages/ipykernel_launcher.py:7: DeprecationWarning: find_elements_by_* commands are deprecated. Please use find_elements() instead\n",
            "  import sys\n"
          ]
        },
        {
          "output_type": "stream",
          "name": "stdout",
          "text": [
            "15\n"
          ]
        },
        {
          "output_type": "stream",
          "name": "stderr",
          "text": [
            "/usr/local/lib/python3.7/dist-packages/ipykernel_launcher.py:2: DeprecationWarning: use options instead of chrome_options\n",
            "  \n"
          ]
        },
        {
          "output_type": "stream",
          "name": "stdout",
          "text": [
            "https://www.houzz.in/professionals/civil-engineers-and-contractors/c/Tamil-Nadu/p/525\n"
          ]
        },
        {
          "output_type": "stream",
          "name": "stderr",
          "text": [
            "/usr/local/lib/python3.7/dist-packages/ipykernel_launcher.py:7: DeprecationWarning: find_elements_by_* commands are deprecated. Please use find_elements() instead\n",
            "  import sys\n"
          ]
        },
        {
          "output_type": "stream",
          "name": "stdout",
          "text": [
            "15\n"
          ]
        },
        {
          "output_type": "stream",
          "name": "stderr",
          "text": [
            "/usr/local/lib/python3.7/dist-packages/ipykernel_launcher.py:2: DeprecationWarning: use options instead of chrome_options\n",
            "  \n"
          ]
        },
        {
          "output_type": "stream",
          "name": "stdout",
          "text": [
            "https://www.houzz.in/professionals/civil-engineers-and-contractors/c/Tamil-Nadu/p/540\n"
          ]
        },
        {
          "output_type": "stream",
          "name": "stderr",
          "text": [
            "/usr/local/lib/python3.7/dist-packages/ipykernel_launcher.py:7: DeprecationWarning: find_elements_by_* commands are deprecated. Please use find_elements() instead\n",
            "  import sys\n"
          ]
        },
        {
          "output_type": "stream",
          "name": "stdout",
          "text": [
            "15\n"
          ]
        },
        {
          "output_type": "stream",
          "name": "stderr",
          "text": [
            "/usr/local/lib/python3.7/dist-packages/ipykernel_launcher.py:2: DeprecationWarning: use options instead of chrome_options\n",
            "  \n"
          ]
        },
        {
          "output_type": "stream",
          "name": "stdout",
          "text": [
            "https://www.houzz.in/professionals/civil-engineers-and-contractors/c/Tamil-Nadu/p/555\n"
          ]
        },
        {
          "output_type": "stream",
          "name": "stderr",
          "text": [
            "/usr/local/lib/python3.7/dist-packages/ipykernel_launcher.py:7: DeprecationWarning: find_elements_by_* commands are deprecated. Please use find_elements() instead\n",
            "  import sys\n"
          ]
        },
        {
          "output_type": "stream",
          "name": "stdout",
          "text": [
            "14\n"
          ]
        },
        {
          "output_type": "stream",
          "name": "stderr",
          "text": [
            "/usr/local/lib/python3.7/dist-packages/ipykernel_launcher.py:2: DeprecationWarning: use options instead of chrome_options\n",
            "  \n"
          ]
        },
        {
          "output_type": "stream",
          "name": "stdout",
          "text": [
            "https://www.houzz.in/professionals/civil-engineers-and-contractors/c/Tamil-Nadu/p/570\n"
          ]
        },
        {
          "output_type": "stream",
          "name": "stderr",
          "text": [
            "/usr/local/lib/python3.7/dist-packages/ipykernel_launcher.py:7: DeprecationWarning: find_elements_by_* commands are deprecated. Please use find_elements() instead\n",
            "  import sys\n"
          ]
        },
        {
          "output_type": "stream",
          "name": "stdout",
          "text": [
            "15\n"
          ]
        },
        {
          "output_type": "stream",
          "name": "stderr",
          "text": [
            "/usr/local/lib/python3.7/dist-packages/ipykernel_launcher.py:2: DeprecationWarning: use options instead of chrome_options\n",
            "  \n"
          ]
        },
        {
          "output_type": "stream",
          "name": "stdout",
          "text": [
            "https://www.houzz.in/professionals/civil-engineers-and-contractors/c/Tamil-Nadu/p/585\n"
          ]
        },
        {
          "output_type": "stream",
          "name": "stderr",
          "text": [
            "/usr/local/lib/python3.7/dist-packages/ipykernel_launcher.py:7: DeprecationWarning: find_elements_by_* commands are deprecated. Please use find_elements() instead\n",
            "  import sys\n"
          ]
        },
        {
          "output_type": "stream",
          "name": "stdout",
          "text": [
            "15\n"
          ]
        },
        {
          "output_type": "stream",
          "name": "stderr",
          "text": [
            "/usr/local/lib/python3.7/dist-packages/ipykernel_launcher.py:2: DeprecationWarning: use options instead of chrome_options\n",
            "  \n"
          ]
        },
        {
          "output_type": "stream",
          "name": "stdout",
          "text": [
            "https://www.houzz.in/professionals/civil-engineers-and-contractors/c/Tamil-Nadu/p/600\n"
          ]
        },
        {
          "output_type": "stream",
          "name": "stderr",
          "text": [
            "/usr/local/lib/python3.7/dist-packages/ipykernel_launcher.py:7: DeprecationWarning: find_elements_by_* commands are deprecated. Please use find_elements() instead\n",
            "  import sys\n"
          ]
        },
        {
          "output_type": "stream",
          "name": "stdout",
          "text": [
            "14\n"
          ]
        },
        {
          "output_type": "stream",
          "name": "stderr",
          "text": [
            "/usr/local/lib/python3.7/dist-packages/ipykernel_launcher.py:2: DeprecationWarning: use options instead of chrome_options\n",
            "  \n"
          ]
        },
        {
          "output_type": "stream",
          "name": "stdout",
          "text": [
            "https://www.houzz.in/professionals/civil-engineers-and-contractors/c/Tamil-Nadu/p/615\n"
          ]
        },
        {
          "output_type": "stream",
          "name": "stderr",
          "text": [
            "/usr/local/lib/python3.7/dist-packages/ipykernel_launcher.py:7: DeprecationWarning: find_elements_by_* commands are deprecated. Please use find_elements() instead\n",
            "  import sys\n"
          ]
        },
        {
          "output_type": "stream",
          "name": "stdout",
          "text": [
            "15\n"
          ]
        },
        {
          "output_type": "stream",
          "name": "stderr",
          "text": [
            "/usr/local/lib/python3.7/dist-packages/ipykernel_launcher.py:2: DeprecationWarning: use options instead of chrome_options\n",
            "  \n"
          ]
        },
        {
          "output_type": "stream",
          "name": "stdout",
          "text": [
            "https://www.houzz.in/professionals/civil-engineers-and-contractors/c/Tamil-Nadu/p/630\n"
          ]
        },
        {
          "output_type": "stream",
          "name": "stderr",
          "text": [
            "/usr/local/lib/python3.7/dist-packages/ipykernel_launcher.py:7: DeprecationWarning: find_elements_by_* commands are deprecated. Please use find_elements() instead\n",
            "  import sys\n"
          ]
        },
        {
          "output_type": "stream",
          "name": "stdout",
          "text": [
            "15\n"
          ]
        },
        {
          "output_type": "stream",
          "name": "stderr",
          "text": [
            "/usr/local/lib/python3.7/dist-packages/ipykernel_launcher.py:2: DeprecationWarning: use options instead of chrome_options\n",
            "  \n"
          ]
        },
        {
          "output_type": "stream",
          "name": "stdout",
          "text": [
            "https://www.houzz.in/professionals/civil-engineers-and-contractors/c/Tamil-Nadu/p/645\n"
          ]
        },
        {
          "output_type": "stream",
          "name": "stderr",
          "text": [
            "/usr/local/lib/python3.7/dist-packages/ipykernel_launcher.py:7: DeprecationWarning: find_elements_by_* commands are deprecated. Please use find_elements() instead\n",
            "  import sys\n"
          ]
        },
        {
          "output_type": "stream",
          "name": "stdout",
          "text": [
            "15\n"
          ]
        },
        {
          "output_type": "stream",
          "name": "stderr",
          "text": [
            "/usr/local/lib/python3.7/dist-packages/ipykernel_launcher.py:2: DeprecationWarning: use options instead of chrome_options\n",
            "  \n"
          ]
        },
        {
          "output_type": "stream",
          "name": "stdout",
          "text": [
            "https://www.houzz.in/professionals/civil-engineers-and-contractors/c/Tamil-Nadu/p/660\n"
          ]
        },
        {
          "output_type": "stream",
          "name": "stderr",
          "text": [
            "/usr/local/lib/python3.7/dist-packages/ipykernel_launcher.py:7: DeprecationWarning: find_elements_by_* commands are deprecated. Please use find_elements() instead\n",
            "  import sys\n"
          ]
        },
        {
          "output_type": "stream",
          "name": "stdout",
          "text": [
            "15\n"
          ]
        },
        {
          "output_type": "stream",
          "name": "stderr",
          "text": [
            "/usr/local/lib/python3.7/dist-packages/ipykernel_launcher.py:2: DeprecationWarning: use options instead of chrome_options\n",
            "  \n"
          ]
        },
        {
          "output_type": "stream",
          "name": "stdout",
          "text": [
            "https://www.houzz.in/professionals/civil-engineers-and-contractors/c/Tamil-Nadu/p/675\n"
          ]
        },
        {
          "output_type": "stream",
          "name": "stderr",
          "text": [
            "/usr/local/lib/python3.7/dist-packages/ipykernel_launcher.py:7: DeprecationWarning: find_elements_by_* commands are deprecated. Please use find_elements() instead\n",
            "  import sys\n"
          ]
        },
        {
          "output_type": "stream",
          "name": "stdout",
          "text": [
            "15\n"
          ]
        },
        {
          "output_type": "stream",
          "name": "stderr",
          "text": [
            "/usr/local/lib/python3.7/dist-packages/ipykernel_launcher.py:2: DeprecationWarning: use options instead of chrome_options\n",
            "  \n"
          ]
        },
        {
          "output_type": "stream",
          "name": "stdout",
          "text": [
            "https://www.houzz.in/professionals/civil-engineers-and-contractors/c/Tamil-Nadu/p/690\n"
          ]
        },
        {
          "output_type": "stream",
          "name": "stderr",
          "text": [
            "/usr/local/lib/python3.7/dist-packages/ipykernel_launcher.py:7: DeprecationWarning: find_elements_by_* commands are deprecated. Please use find_elements() instead\n",
            "  import sys\n"
          ]
        },
        {
          "output_type": "stream",
          "name": "stdout",
          "text": [
            "15\n"
          ]
        },
        {
          "output_type": "stream",
          "name": "stderr",
          "text": [
            "/usr/local/lib/python3.7/dist-packages/ipykernel_launcher.py:2: DeprecationWarning: use options instead of chrome_options\n",
            "  \n"
          ]
        },
        {
          "output_type": "stream",
          "name": "stdout",
          "text": [
            "https://www.houzz.in/professionals/civil-engineers-and-contractors/c/Tamil-Nadu/p/705\n"
          ]
        },
        {
          "output_type": "stream",
          "name": "stderr",
          "text": [
            "/usr/local/lib/python3.7/dist-packages/ipykernel_launcher.py:7: DeprecationWarning: find_elements_by_* commands are deprecated. Please use find_elements() instead\n",
            "  import sys\n"
          ]
        },
        {
          "output_type": "stream",
          "name": "stdout",
          "text": [
            "3\n"
          ]
        }
      ]
    },
    {
      "cell_type": "code",
      "source": [
        "print(result)\n",
        "len(result)"
      ],
      "metadata": {
        "colab": {
          "base_uri": "https://localhost:8080/"
        },
        "id": "iXsvsPmXu9IN",
        "outputId": "b8c0f486-b36b-49f7-e4b8-0b193dc135b6"
      },
      "execution_count": null,
      "outputs": [
        {
          "output_type": "stream",
          "name": "stdout",
          "text": [
            "[{'Name': 'Civil engineer and contractor', 'Contact No': 'View Phone Number', 'Address': 'Chennai, State Of Tamil Nadu, India, 600073'}, {'Name': 'Skypearl construction private limited', 'Contact No': '093632 55628', 'Address': 'hanuman colony, injambakkam, chennai, State Of Tamil Nadu, India, 600115'}, {'Name': 'Bv builders', 'Contact No': '094426 23353', 'Address': 'Smb towers plot no 153@154,sekkalai,kalanivasal main road,karaikudi -630002, Karaikudi, State Of Tamil Nadu, India, 630002'}, {'Name': 'JJ BUILDERS & CONSTRUCTION', 'Contact No': '089731 32333', 'Address': 'No 3, srinivasa medical upstairs,, Main road, batlagundu., Dindigul, State Of Tamil Nadu, India, 624202'}, {'Name': 'pn construction builders', 'Contact No': '090666 56506', 'Address': 'venkataswara complex, bangalore main road, krishnagiri, Krishnagiri, State Of Tamil Nadu, India, 635001'}, {'Name': 'SJJ CONSULTANCY', 'Contact No': '096779 87850', 'Address': 'Parsan Rd, Coimbatore, State Of Tamil Nadu, India, 641016'}, {'Name': 'world civil arch associates', 'Contact No': '098941 92261', 'Address': 'Coimbatore district, State Of Tamil Nadu, India, 641037'}, {'Name': 'Jhanvi Housing (P) Ltd', 'Contact No': '098405 22443', 'Address': '36/2, IInd, New Tank Bund Rd, Otteri, Chennai, Tamil Nadu 600012, Chennai, State Of Tamil Nadu, India, 600012'}, {'Name': 'KH CONSTRUCTIONS', 'Contact No': '094874 86786', 'Address': '63/18 FIRST FLOOR 10TH AVENEUE ASHOK NAGAR, CHENNAI, State Of Tamil Nadu, India, 600083'}, {'Name': 'Attic construction', 'Contact No': '070100 93910', 'Address': 'Ayyangar Street, Kumbakonam, India, 612001'}, {'Name': 'KH CONSTRUCTIONS', 'Contact No': '094874 86786', 'Address': 'NO.45 HOSPITAL ROAD, KANCHIPURAM, KANCHIPURAM, State Of Tamil Nadu, India, 631502'}, {'Name': 'JEY Construction', 'Contact No': '077089 96742', 'Address': 'PRS Complex, first floor, Mainroad, kovilpatti, Kovilpatti, State Of Tamil Nadu, India, 628502'}, {'Name': 'Travels Chinnamanur, Travels Booking Chinnamanur', 'Contact No': '093600 33299', 'Address': 'Door,No. 94/A, Middle St, Kannadie Kadai Valaivu, Seepalakottai Road, Chinnamanur, State Of Tamil Nadu, India, 625515'}, {'Name': 'Tenkasi Construction Company (TCC)', 'Contact No': '099429 29942', 'Address': 'Madurai Road, Tenkasi, Tenkasi, State Of Tamil Nadu, India, 627803'}, {'Name': 'Colour Coats and Laminatess', 'Contact No': '096294 41222', 'Address': '2,6th street,sangu nagar,palayapalayam, erode, State Of Tamil Nadu, India, 638011'}, {'Name': 'Murugan construction', 'Contact No': '082204 22467', 'Address': '23,periyar, madurai, State Of Tamil Nadu, India, 625001'}, {'Name': 'Wahoo Builders', 'Contact No': '078109 33322', 'Address': '18,Viswa Meena Complex,8th Cross Street,Ram Nagar South, Madipakkam, Chennai, State Of Tamil Nadu, India, 600091'}, {'Name': 'AURA CONSTRUCTIONS', 'Contact No': '076393 32619', 'Address': '1/36-1,Micheal street,East Alangarathattu., Thoothukudi, State Of Tamil Nadu, India, 628001'}, {'Name': 'SELVI CONSTRUCTIONS AND LAND SURVEYORS', 'Contact No': '070103 74684', 'Address': '194-KANNIYAPATTI, ALAMPATTI, PONNAMARAVATHY, Pudukkottai, State Of Tamil Nadu, India, 622002'}, {'Name': 'Aurora Associates', 'Contact No': '098407 19338', 'Address': 'Chennai, State Of Tamil Nadu, India, 600087'}, {'Name': \"MY PROPERTY'S  & NV MAGESH CONSTRUCTION\", 'Contact No': '090803 16156', 'Address': '53C Forth North cross, Mariyappa Nagar, Chidambaram, State Of Tamil Nadu, India, 608002'}, {'Name': 'MBASSOCIATES', 'Contact No': '099946 03804', 'Address': '36 C / 2, Nalli Hospital Road, Opposite to erode new bus stand, ERODE, State Of Tamil Nadu, India, 638011'}, {'Name': 'Guru Planners & Construction', 'Contact No': '090956 46329', 'Address': 'Bhavani, Erode Dt, Tamilnadu -638312, Erode, State Of Tamil Nadu, India, 638312'}, {'Name': 'RMP Construction', 'Contact No': '081488 52065', 'Address': 'Devakottai, India, 630302'}, {'Name': 'Strucspec', 'Contact No': '091763 12345', 'Address': '12A, John Desikar Street, Nanganallur, Chennai-600061, Chennai, State Of Tamil Nadu, India, 600061'}, {'Name': 'praveen CK', 'Contact No': '088386 31126', 'Address': 'theni, India, 625513'}, {'Name': 'MSV HOMES', 'Contact No': '079047 98631', 'Address': 'Chennai, State Of Tamil Nadu, India, 601204'}, {'Name': 'GREEN INDIA CITY DEVELOPERS', 'Contact No': '097916 92008', 'Address': '#2 nd floor, NAJAM CENTRE, VIRUTHAMPATTU (near VISHNU cinemas(,vellore, Vellore, State Of Tamil Nadu, India, 632006'}, {'Name': 'Wood craftz Engineers', 'Contact No': '096980 07708', 'Address': 'wood craftz engineers, keelaputhur, usilampatti, State Of Tamil Nadu, India, 625532'}, {'Name': 'Wood craftz Engineers', 'Contact No': 'View Phone Number', 'Address': 'wood craftz engineers, keelaputhur, usilampatti, State Of Tamil Nadu, India, 625532'}, {'Name': 'SHIVANI HOMEZ', 'Contact No': '919843987700', 'Address': 'TRICHY ROAD, COIMBATORE, State Of Tamil Nadu, India, 641016'}, {'Name': 'Architeca Designers and Builders – Construction Co', 'Contact No': '070944 91151', 'Address': 'Nagercoil, State Of Tamil Nadu, India, 629003'}, {'Name': 'Geometric Construction', 'Contact No': '099400 58020', 'Address': 'CHENNAI, State Of Tamil Nadu, India, 600044'}, {'Name': 'PSG Construction and Interior', 'Contact No': '099420 03757', 'Address': 'No4/11, Magilan Complex, Indian Bank Colony, KK nagar, Trichy, State Of Tamil Nadu, India, 620021'}, {'Name': 'The Pavilious', 'Contact No': '087549 34151', 'Address': '38D,Perasiriyar Colony,Palamalai Road,Periyanaicken Palayam, Coimbatore, State Of Tamil Nadu, India, 641020'}, {'Name': 'Govindraj Builders', 'Contact No': '095000 68589', 'Address': 'Chennai, State Of Tamil Nadu, India, 600044'}, {'Name': 'Boltz Engineering', 'Contact No': '090250 48404', 'Address': 'Jupiter Complex, Dr Ranga Road, MYALAPORE, Chennai, India, State Of Tamil Nadu, India, 600004'}, {'Name': 'Navakarmika Associates', 'Contact No': '097900 44050', 'Address': 'Dindigul, State Of Tamil Nadu, India, 624003'}, {'Name': 'ABDT Naturalsciences Pvt Ltd', 'Contact No': '099940 99164', 'Address': '159,Pachamali adivaram south,Gobichettipalayam-638476, Gobichettipalayam, State Of Tamil Nadu, India, 638476'}, {'Name': 'Structs  & Designs', 'Contact No': '096296 94236', 'Address': 'Coimbatore district, State Of Tamil Nadu, India, 641027'}, {'Name': 'CSK BUILDERS AND PROMOTERS', 'Contact No': '098400 62109', 'Address': 'NO.9, KANCHI NAGAR, VINAYAGAPURAM,, CHENNAI, State Of Tamil Nadu, India, india'}, {'Name': 'SRI RAJALAKSHMI BUILDERS ENGINEERS & CONTRACTORS', 'Contact No': '095003 37625', 'Address': 'erode, State Of Tamil Nadu, India, 638052'}, {'Name': 'webuser_333456578 sudalaimuthu m', 'Contact No': '098427 20192', 'Address': 'sanniyasipatti, sankagiri west, India, 637303'}, {'Name': 'SK CONSTRUCTION AND CONTRACTERS', 'Contact No': '086670 81251', 'Address': 'Krishnagiri, State Of Tamil Nadu, India, 635001'}, {'Name': 'PN CONSTRUCTION BUILDERS', 'Contact No': 'View Phone Number', 'Address': '#360,CROWN COMPLEX, BANGALORE MAIN ROAD, KRISHNAGIRI, BARGUR, KRISHNAGIRI, State Of Tamil Nadu, India, 635001'}, {'Name': 'Navakarmika Associates', 'Contact No': '097900 44050', 'Address': 'Dindigul, State Of Tamil Nadu, India, 624003'}, {'Name': 'ABDT Naturalsciences Pvt Ltd', 'Contact No': '099940 99164', 'Address': '159,Pachamali adivaram south,Gobichettipalayam-638476, Gobichettipalayam, State Of Tamil Nadu, India, 638476'}, {'Name': 'MATRIX INTERIORS', 'Contact No': '086087 84848', 'Address': 'NO.21,Murugankovil Street,Vivekanthanagar, Kolathur, Chennai, State Of Tamil Nadu, India, 600099'}, {'Name': 'siva_builders', 'Contact No': '090803 48893', 'Address': 'Tirunelveli, India, 627007'}, {'Name': 'royal v constructions', 'Contact No': '098430 74172', 'Address': '9-4/186, Royal Garden, Parinagar, Karaikudi, Karaikudi, India, 630004'}, {'Name': 'JOE builders', 'Contact No': '096003 44328', 'Address': '31 KR pushpam Complex arthitheatre road, Dindigul, Dindigul, State Of Tamil Nadu, India, 624003'}, {'Name': 'Chennai Aqua Pure', 'Contact No': '087544 94843', 'Address': '6/3, old no-79/3, 53rd street, Ground floor, Ashok Nagar, Chennai - 600 083, Chennai, State Of Tamil Nadu, India, 600083'}, {'Name': 'S.P. Constructions', 'Contact No': '090806 63363', 'Address': '27/E,Vinayagar Kovil Street, Srinivasa Nagar,Uppilipalayam, Coimbatore, State Of Tamil Nadu, India, 641015'}, {'Name': 'Ms Vijay', 'Contact No': '080128 70448', 'Address': '12/1 Sanarpalayam,Nagadevampalaym (po ),Gobi (tk), 12/1 Sanarpalayam,Nagadevampalaym (po ),Gobi (tk), Erode, State Of Tamil Nadu, India, 638476'}, {'Name': 'NM CONSTRUCTION', 'Contact No': '086101 94929', 'Address': 'N M CONSTRUCTION, OPP. KARUR VYSYA BANK, COONOOR ROAD, KOTAGIRI, State Of Tamil Nadu, India, 643217'}, {'Name': 'nirmalraj_rajendran', 'Contact No': '086103 94952', 'Address': 'India, 636809'}, {'Name': 'Quality Construction', 'Contact No': 'None', 'Address': 'Kollapuram, Kollapuram, India, 609608'}, {'Name': 'Kenza designs', 'Contact No': '082206 87535', 'Address': 'India, 606601'}, {'Name': 'VM construction', 'Contact No': 'View Phone Number', 'Address': '14 /4a South Street, Mayiladuturai, State Of Tamil Nadu, India, 609001'}, {'Name': 'Vasantham Constructions (UPK GROUPS)', 'Contact No': '086675 53672', 'Address': 'Coimbatore, State Of Tamil Nadu, India, 624601'}, {'Name': 'V6 Archineers', 'Contact No': '094884 73866', 'Address': 'veppamoodu junction, 2nd floor,Selva Tower,Veppamoodu Junction, opposite to Ganga Lodge, Nagercoil, Tamil Nadu 629001, Nagercoil, State Of Tamil Nadu, India, 629001'}, {'Name': 'WALZ  civil&interiors', 'Contact No': '095661 59230', 'Address': 'India, 614704'}, {'Name': 'Chennai Labour Contractor', 'Contact No': '082484 74939', 'Address': 'Karumandapam,, Sakthi nagar,, Dindugal road,, State Of Tamil Nadu, India, 620001'}, {'Name': 'Chozha & Santhi Builders', 'Contact No': '063821 87099', 'Address': 'No: 194/14, Kundrathur High Road, ADJ to Venkateswara Hardware, RE Nagar 2nd Street West,, Porur,, Chennai, State Of Tamil Nadu, India, 600116'}, {'Name': 'Logesh', 'Contact No': '096778 74159', 'Address': 'Thanjavur, State Of Tamil Nadu, India, 614802'}, {'Name': 'Best Home Renovations', 'Contact No': '094892 20523', 'Address': 'Coimbatore, State Of Tamil Nadu, India, 641014'}, {'Name': 'Vignesh', 'Contact No': '095004 07757', 'Address': 'Trichy, State Of Tamil Nadu, India, 620021'}, {'Name': 'J M ASSOCIATES', 'Contact No': '085262 65454', 'Address': 'Coimbatore, State Of Tamil Nadu, India, 642202'}, {'Name': 'T.M.builders', 'Contact No': '073734 34181', 'Address': 'ARAKKONAM, RANIPET, ARAKKONAM, State Of Tamil Nadu, India, 631001'}, {'Name': 'CS constructions', 'Contact No': '089032 54075', 'Address': 'nagercoil, State Of Tamil Nadu, India, 629601'}, {'Name': 'SATORI CONSTRUCTIONS', 'Contact No': '044 4850 7748', 'Address': 'No. 20/57, 2nd Floor, Vambuli Amman Koil Street, Alandur., Chennai, State Of Tamil Nadu, India, 600016'}, {'Name': 'Jayanth Nataraja Moorthi', 'Contact No': '097504 06096', 'Address': '41-G, Minar Complex,Shanagar west, Pallapatti,Karur, India, 639205'}, {'Name': 'supernova', 'Contact No': '919715246519', 'Address': 'Thanjavur, State Of Tamil Nadu, India, 613009'}, {'Name': 'eco friendly construction', 'Contact No': '094894 80232', 'Address': 'krishnagiri, State Of Tamil Nadu, India, 635002'}, {'Name': 'Mohanaraj', 'Contact No': '074490 09004', 'Address': '26/42 massiriamman nagar 2nd Street East chandrapuram, Tiruppur, State Of Tamil Nadu, India, 641606'}, {'Name': 'Sai viswa constructions', 'Contact No': '094881 00444', 'Address': 'Sivakasi, State Of Tamil Nadu, India, 626123'}, {'Name': 'Dhanyashree Constructions', 'Contact No': '096000 44450', 'Address': 'chennai, State Of Tamil Nadu, India, 600035'}, {'Name': 'JVC Hallmark Foundations Pvt Ltd', 'Contact No': '098410 87389', 'Address': '6, MSK Nagar, Selaiyur, Chennai, State Of Tamil Nadu, India, 600073'}, {'Name': 'Nationalsafetyschool', 'Contact No': '097398 13145', 'Address': 'No.7, Selvi Street, Seethapathy Nagar, Velachery, Chennai, State Of Tamil Nadu, India, 600042'}, {'Name': 'VELAN BUILDERS', 'Contact No': '098942 96546', 'Address': 'Tiruppur, State Of Tamil Nadu, India, 641607'}, {'Name': 'Apple Constructions', 'Contact No': '086673 29121', 'Address': '706/b, NLA Complex, Opposite Theni Market, Theni, State Of Tamil Nadu, India, 625515'}, {'Name': 'Joyenterprises', 'Contact No': '099402 45572', 'Address': 'St sebatian traders pannur, Chennai, State Of Tamil Nadu, India, 602108'}, {'Name': 'SPOTLIGHT CONSTRUCTIONS & BUILDING MATERIALS', 'Contact No': '07397 757 671', 'Address': '38,RVE Layout Main street, Thennampalayam,Tiruppur, Tiruppur, State Of Tamil Nadu, India, 641604'}, {'Name': 'Qalillur Rahman H.R.', 'Contact No': '099524 76939', 'Address': '35 kosa street melvisharam, Vellore, India, 632509'}, {'Name': 'upwork', 'Contact No': '097904 51645', 'Address': 'aranthyangi,pudukkotai, pudukkotai, State Of Tamil Nadu, India, 614616'}, {'Name': 'Paliso Constructions', 'Contact No': '091591 93779', 'Address': '10/3 Bhavandass Street,, West Tambaram, State Of Tamil Nadu, India, 600045'}, {'Name': 'SHRI vignesh constructions', 'Contact No': '098420 35791', 'Address': 'Palani, Dindugal district, Palani, State Of Tamil Nadu, India, 624601'}, {'Name': 'Sri Veerabhatra Associates', 'Contact No': 'View Phone Number', 'Address': 'Karumathampatti, Karumathampatti, Somanur, State Of Tamil Nadu, India, 641659'}, {'Name': 'Bricxos construction', 'Contact No': '063831 59213', 'Address': '737,appar street sivajothi nagar, chidambaram, Cuddalore, State Of Tamil Nadu, India, 608001'}, {'Name': 'ARTTRAM ENTERPRISES', 'Contact No': '090942 12361', 'Address': 'Chennai, State Of Tamil Nadu, India, 600083'}, {'Name': 'training', 'Contact No': '078787 87878', 'Address': 'chennai, chennai, State Of Tamil Nadu, India, 600040'}, {'Name': 'Future Design and Constructions', 'Contact No': '089737 77005', 'Address': 'Namakkal, State Of Tamil Nadu, India, 637015'}, {'Name': 'exsar', 'Contact No': '090879 11897', 'Address': '6 umaialmeenashki complex, koodal nagar, madurai, State Of Tamil Nadu, India, 625018'}, {'Name': 'Dp. Core infra', 'Contact No': '099437 19991', 'Address': 'Virudhunagar., State Of Tamil Nadu, India, 626001'}, {'Name': 'raj_prabhu24', 'Contact No': '082208 99918', 'Address': 'Thanjavur, State Of Tamil Nadu, India, 614613'}, {'Name': 'MK BUILDERS', 'Contact No': '097877 37371', 'Address': 'Singaram Nagar, Kattur, Trichy, State Of Tamil Nadu, India, 620019'}, {'Name': 'Prabha Homes', 'Contact No': '098843 84589', 'Address': 'Adambakkam, chennai, State Of Tamil Nadu, India, 600088'}, {'Name': 'kalai', 'Contact No': '094434 38292', 'Address': '93-i-nsb road, perambalur, State Of Tamil Nadu, India, 621212'}, {'Name': 'Jain Housing', 'Contact No': '076673 30000', 'Address': 'No.3 Mangesh Street, T.Nagar, Chennai-600017, Chennai, State Of Tamil Nadu, India, 600017'}, {'Name': 'Pragathi buildtech', 'Contact No': '098431 23056', 'Address': '127/3, Karpagam Avenue Main road, Raja Annamalai puram, Chennai, State Of Tamil Nadu, India, 600028'}, {'Name': 'Sree Karmik', 'Contact No': '095660 56077', 'Address': 'Chennai, State Of Tamil Nadu, India, 600032'}, {'Name': 'Elshaddai construction & interiors', 'Contact No': '063816 44256', 'Address': 'Bino cottage chellamkonam, Kappiyarai p.o, Nagercoil, State Of Tamil Nadu, India, 629156'}, {'Name': 'Engineer', 'Contact No': '094425 02658', 'Address': 'Al-Ameen Nagar, Madurai, State Of Tamil Nadu, India, 625007'}, {'Name': 'Pk Builders', 'Contact No': '094446 62222', 'Address': 'Chennai, State Of Tamil Nadu, India, 600 001'}, {'Name': 'Greenwood Builders', 'Contact No': '098436 39071', 'Address': '10/598 - C9, Old court Road,, OPP BSNL office, Gudalur, State Of Tamil Nadu, India, 643212'}, {'Name': 'Chitale Infra', 'Contact No': '091765 77250', 'Address': 'Chennai, State Of Tamil Nadu, India, 600002'}, {'Name': 'SAI SRI BUILDERS', 'Contact No': '094984 02191', 'Address': 'Karur, State Of Tamil Nadu, India, 639004'}, {'Name': 'praGazh Construction', 'Contact No': '097893 52280', 'Address': 'Tiruppur, India, 641652'}, {'Name': 'Saravana Constructions', 'Contact No': '097873 80093', 'Address': 'no 42 Andal nagar,near CSI church, Pollachi, Coimbatore, State Of Tamil Nadu, India, 642002'}, {'Name': 'Jeevan associates', 'Contact No': '098846 36693', 'Address': 'Chennai, State Of Tamil Nadu, India, 600115'}, {'Name': 'engineer', 'Contact No': '088079 01207', 'Address': 'kanchipuram, State Of Tamil Nadu, India, 631502'}, {'Name': 'aamura', 'Contact No': '096005 65050', 'Address': 'Chennai, State Of Tamil Nadu, India, 600127'}, {'Name': 'adp venture', 'Contact No': '098845 54081', 'Address': 'Yelagiri hill station,Tirupattur, Vellore, State Of Tamil Nadu, India, 635602'}, {'Name': 'Sri Veerabhatra Associates', 'Contact No': '096290 54341', 'Address': 'Karumathampatti, Karumathampatti, Somanur, State Of Tamil Nadu, India, 641659'}, {'Name': 'Bricxos construction', 'Contact No': '063831 59213', 'Address': '737,appar street sivajothi nagar, chidambaram, Cuddalore, State Of Tamil Nadu, India, 608001'}, {'Name': 'ARTTRAM ENTERPRISES', 'Contact No': '090942 12361', 'Address': 'Chennai, State Of Tamil Nadu, India, 600083'}, {'Name': 'training', 'Contact No': '078787 87878', 'Address': 'chennai, chennai, State Of Tamil Nadu, India, 600040'}, {'Name': 'Future Design and Constructions', 'Contact No': '089737 77005', 'Address': 'Namakkal, State Of Tamil Nadu, India, 637015'}, {'Name': 'exsar', 'Contact No': '090879 11897', 'Address': '6 umaialmeenashki complex, koodal nagar, madurai, State Of Tamil Nadu, India, 625018'}, {'Name': 'Dp. Core infra', 'Contact No': '099437 19991', 'Address': 'Virudhunagar., State Of Tamil Nadu, India, 626001'}, {'Name': 'raj_prabhu24', 'Contact No': '082208 99918', 'Address': 'Thanjavur, State Of Tamil Nadu, India, 614613'}, {'Name': 'MK BUILDERS', 'Contact No': '097877 37371', 'Address': 'Singaram Nagar, Kattur, Trichy, State Of Tamil Nadu, India, 620019'}, {'Name': 'Prabha Homes', 'Contact No': '098843 84589', 'Address': 'Adambakkam, chennai, State Of Tamil Nadu, India, 600088'}, {'Name': 'kalai', 'Contact No': '094434 38292', 'Address': '93-i-nsb road, perambalur, State Of Tamil Nadu, India, 621212'}, {'Name': 'Jain Housing', 'Contact No': '076673 30000', 'Address': 'No.3 Mangesh Street, T.Nagar, Chennai-600017, Chennai, State Of Tamil Nadu, India, 600017'}, {'Name': 'Pragathi buildtech', 'Contact No': '098431 23056', 'Address': '127/3, Karpagam Avenue Main road, Raja Annamalai puram, Chennai, State Of Tamil Nadu, India, 600028'}, {'Name': 'Sree Karmik', 'Contact No': '095660 56077', 'Address': 'Chennai, State Of Tamil Nadu, India, 600032'}, {'Name': 'Elshaddai construction & interiors', 'Contact No': '063816 44256', 'Address': 'Bino cottage chellamkonam, Kappiyarai p.o, Nagercoil, State Of Tamil Nadu, India, 629156'}, {'Name': 'Urbanspace Builders', 'Contact No': '091500 30450', 'Address': 'Medavakkam, Chennai, State Of Tamil Nadu, India, 600100'}, {'Name': 'Pushpakumar', 'Contact No': '098840 34034', 'Address': 'Chennai, State Of Tamil Nadu, India, 600023'}, {'Name': 'ACK Builders', 'Contact No': '088387 29186', 'Address': 'Tirunelveli, State Of Tamil Nadu, India, 627657'}, {'Name': 'jagan', 'Contact No': '095437 90999', 'Address': 'No 45, Bharathi square, Jayam nagar, Rasipuram, Rasipuram, State Of Tamil Nadu, India, 637408'}, {'Name': 'HPK STAR REALTORS PVT LTD', 'Contact No': 'View Phone Number', 'Address': 'PERAMBUR, Chennai, State Of Tamil Nadu, India, 600082'}, {'Name': 'Jw', 'Contact No': '096263 33000', 'Address': 'India, 641004'}, {'Name': 'Painting and wood polish', 'Contact No': '063813 49694', 'Address': '2a rajukanthi street NERKUNRAM, Chennai, State Of Tamil Nadu, India, 6000107'}, {'Name': 'Walkaroo', 'Contact No': '080057 22999', 'Address': 'No 10-12, SIDCO Industrial Estate, Malumichampatti, Coimbatore, State Of Tamil Nadu, India, 641050'}, {'Name': 'Engineer', 'Contact No': '094872 18592', 'Address': 'Dharmapuri, Dharmapuri, State Of Tamil Nadu, India, 636703'}, {'Name': 'AKHIL ASSOCIATES', 'Contact No': '088384 63309', 'Address': 'Trichy, State Of Tamil Nadu, India, 620021'}, {'Name': 'MM Builders', 'Contact No': '098424 31612', 'Address': '300 market Road, Pollachi, State Of Tamil Nadu, India, 642001'}, {'Name': 'mds associates', 'Contact No': '073971 48816', 'Address': '5b 1st floor, Rangasamy Street, Attur, Salem - ( D.t ), 636 102, salem, State Of Tamil Nadu, India, 636 102'}, {'Name': 'Keerthi Kumar B', 'Contact No': '099650 51390', 'Address': 'Coimbatore, State Of Tamil Nadu, India, 641107'}, {'Name': 'FOURSQAUARE ARCHITECTS', 'Contact No': '080980 90119', 'Address': 'Madurai, State Of Tamil Nadu, India, 625012'}, {'Name': 'Avvai R Murrugan', 'Contact No': '090424 42233', 'Address': '27 Akil Medu 4 Th street, erode, State Of Tamil Nadu, India, 638001'}, {'Name': 'Edifice Structures', 'Contact No': '088704 04060', 'Address': '73 EMM Main Street, Chennimalai Road, Erode, State Of Tamil Nadu, India, 638001'}, {'Name': 'Urbanarc Construction & Engineering', 'Contact No': '090031 99427', 'Address': 'Chennai, State Of Tamil Nadu, India, 600118'}, {'Name': 'Pentagon builders', 'Contact No': '076394 39626', 'Address': 'Tamilnadu, Madurai, State Of Tamil Nadu, India, 625106'}, {'Name': 'Sri Ramakrishna Builders', 'Contact No': '094878 90730', 'Address': 'Erode, State Of Tamil Nadu, India, 638004'}, {'Name': 'training', 'Contact No': 'View Phone Number', 'Address': 'chennai, chennai, State Of Tamil Nadu, India, 600040'}, {'Name': 'Future Design and Constructions', 'Contact No': '089737 77005', 'Address': 'Namakkal, State Of Tamil Nadu, India, 637015'}, {'Name': 'exsar', 'Contact No': '090879 11897', 'Address': '6 umaialmeenashki complex, koodal nagar, madurai, State Of Tamil Nadu, India, 625018'}, {'Name': 'raj_prabhu24', 'Contact No': '082208 99918', 'Address': 'Thanjavur, State Of Tamil Nadu, India, 614613'}, {'Name': 'Dp. Core infra', 'Contact No': '099437 19991', 'Address': 'Virudhunagar., State Of Tamil Nadu, India, 626001'}, {'Name': 'MK BUILDERS', 'Contact No': '097877 37371', 'Address': 'Singaram Nagar, Kattur, Trichy, State Of Tamil Nadu, India, 620019'}, {'Name': 'Prabha Homes', 'Contact No': '098843 84589', 'Address': 'Adambakkam, chennai, State Of Tamil Nadu, India, 600088'}, {'Name': 'Jain Housing', 'Contact No': '076673 30000', 'Address': 'No.3 Mangesh Street, T.Nagar, Chennai-600017, Chennai, State Of Tamil Nadu, India, 600017'}, {'Name': 'Pragathi buildtech', 'Contact No': '098431 23056', 'Address': '127/3, Karpagam Avenue Main road, Raja Annamalai puram, Chennai, State Of Tamil Nadu, India, 600028'}, {'Name': 'Sree Karmik', 'Contact No': '095660 56077', 'Address': 'Chennai, State Of Tamil Nadu, India, 600032'}, {'Name': 'Elshaddai construction & interiors', 'Contact No': '063816 44256', 'Address': 'Bino cottage chellamkonam, Kappiyarai p.o, Nagercoil, State Of Tamil Nadu, India, 629156'}, {'Name': 'Urbanspace Builders', 'Contact No': '091500 30450', 'Address': 'Medavakkam, Chennai, State Of Tamil Nadu, India, 600100'}, {'Name': 'Pushpakumar', 'Contact No': '098840 34034', 'Address': 'Chennai, State Of Tamil Nadu, India, 600023'}, {'Name': 'ACK Builders', 'Contact No': '088387 29186', 'Address': 'Tirunelveli, State Of Tamil Nadu, India, 627657'}, {'Name': 'kalai', 'Contact No': '094434 38292', 'Address': '93-i-nsb road, perambalur, State Of Tamil Nadu, India, 621212'}, {'Name': 'Sathlokhar', 'Contact No': 'View Phone Number', 'Address': '#5134E, 8th Street, Ramnagar North, Madipakkam, Chennai, State Of Tamil Nadu, India, 600091'}, {'Name': 'SSS Group', 'Contact No': '089398 52184', 'Address': '03, Krishnan nagar, Mannargudi, State Of Tamil Nadu, India, 614001'}, {'Name': 'THE DREAM HOME CONSTRUCTION', 'Contact No': '099527 57598', 'Address': '4/25 GANAPATHI STREET, POLUR, Tiruvannamalai, State Of Tamil Nadu, India, 606803'}, {'Name': 'DL CONSTRUCTIONS', 'Contact No': '096001 46922', 'Address': 'No: 983, TVS COLONY, 53RD STREET,, ANNA NAGAR-WEST EXTENSION, Chennai, State Of Tamil Nadu, India, 600101'}, {'Name': 'Chola Builders', 'Contact No': '944400796', 'Address': '16/1,Arunachalam Road,, CHENNAI, State Of Tamil Nadu, India, 600093'}, {'Name': 'The Construction Lab', 'Contact No': '080725 14375', 'Address': 'Chennai & Trichy, Chennai, State Of Tamil Nadu, India, 603103'}, {'Name': 'SCCPL', 'Contact No': '094897 02462', 'Address': 'Chennai, State Of Tamil Nadu, India, 600092'}, {'Name': 'kongunadu spot work', 'Contact No': '094860 55570', 'Address': '166/9, Karattupalayam, tiruchengode, tiruchengode, State Of Tamil Nadu, India, 637209'}, {'Name': 'Arha engineers', 'Contact No': '095009 21901', 'Address': '101/6,1st floor,Mudichur road, Opp to indian oil petrol bunk,West Tambaram, Chennai, State Of Tamil Nadu, India, 600063'}, {'Name': 'Abira Builders and Contractors', 'Contact No': '078713 32822', 'Address': 'Door.No.8/5A, Avanasigoundapalayam,, Angeripalayam P.O, Tirupur, State Of Tamil Nadu, India, 641602'}, {'Name': 'Paramount', 'Contact No': '098428 07424', 'Address': 'Karaikudi, State Of Tamil Nadu, India, 630001'}, {'Name': 'Sivam construction', 'Contact No': '086676 31117', 'Address': 'No 8, pada vettu Amman Kovil 1St Street, parameswaran Nagar,, Parameswaran Nagar, Chennai, State Of Tamil Nadu, India, 600119'}, {'Name': 'Spacio Infra', 'Contact No': '097874 08401', 'Address': 'Chennai, India, 631502'}, {'Name': 'Sri Venkateswara College', 'Contact No': '044 2715 2000', 'Address': 'Post Bag No.1 Pennalur Village Chennai - Bengaluru Highways Sriperumbudur (off Chennai) Tk. - 602 117 Tamil Nadu, India, Chennai, State Of Tamil Nadu, India, 602 117'}, {'Name': 'Dhavamaniraj', 'Contact No': '097900 35672', 'Address': 'Salem, State Of Tamil Nadu, India, 8782'}, {'Name': 'Manoj Sudahar', 'Contact No': 'View Phone Number', 'Address': 'csr infra builders, thadagam pudur, chinna thadagam, coimbatore, India, 641108'}, {'Name': 'Civil Engineer', 'Contact No': '090476 43730', 'Address': 'Cochin, India, 628904'}, {'Name': 'Merch', 'Contact No': '097894 95393', 'Address': 'Tirupur, India, 641604'}, {'Name': 'EXCELLENT CONSTRUCTION', 'Contact No': '081447 77422', 'Address': 'middle street,kurumbalaperi, Tirunelveli, India, 627808'}, {'Name': 'Raani constructions', 'Contact No': '097516 80320', 'Address': 'Sathipattu, Panruti, State Of Tamil Nadu, India, 607106'}, {'Name': 'Murugesan', 'Contact No': '090875 33115', 'Address': 'Pochampalli, Krishnagiri, State Of Tamil Nadu, India, 635201'}, {'Name': 'omega', 'Contact No': '096002 77864', 'Address': 'kannandheri, salem, India, 637102'}, {'Name': 'Ak singh', 'Contact No': '081227 98684', 'Address': 'Teynampet, Chennai, State Of Tamil Nadu, India, no'}, {'Name': 'Engineer', 'Contact No': '077087 56656', 'Address': 'Chennai, India, 600023'}, {'Name': 'Engineer', 'Contact No': '096599 28802', 'Address': 'Madurai, India, 625016'}, {'Name': 'Contractar', 'Contact No': '099417 32313', 'Address': 'No.13,y,block,r.v.nagar,jafferkhanpet,chennai-83., Chennai, State Of Tamil Nadu, India, 600083'}, {'Name': 'Suriya construction', 'Contact No': '094434 56657', 'Address': 'Pudukkottai, State Of Tamil Nadu, India, 622001'}, {'Name': 'AbiAbisheik', 'Contact No': '082207 78865', 'Address': 'Kanniyakumari, State Of Tamil Nadu, India, 629003'}, {'Name': 'Surendar Babu', 'Contact No': 'View Phone Number', 'Address': '64/44 m.s.naidu st, oldwashermenpet, chennai, State Of Tamil Nadu, India, 600021'}, {'Name': 'Chakra builders', 'Contact No': '077087 80331', 'Address': 'Madurai, State Of Tamil Nadu, India, 625020'}, {'Name': 'Home', 'Contact No': '099655 92234', 'Address': 'Chennai, India, 600003'}, {'Name': 'Jawa Har', 'Contact No': '088701 23318', 'Address': '287 Ellapalayam, salem, India, 637503'}, {'Name': 'Interior designer', 'Contact No': '097102 98158', 'Address': 'T.v.nagar, Chennai, State Of Tamil Nadu, India, 600118'}, {'Name': 'Hari', 'Contact No': '096980 12760', 'Address': 'Thiruvedagam, Madurai, State Of Tamil Nadu, India, 625234'}, {'Name': 'Chozha Construction', 'Contact No': '099949 35868', 'Address': 'Trichy, State Of Tamil Nadu, India, 620019'}, {'Name': 'Arul Construction', 'Contact No': '099440 45853', 'Address': '33/67 west ponnagaram 2nd Street,, Madurai, State Of Tamil Nadu, India, 625107'}, {'Name': 'ஞானம் திருமானூர்', 'Contact No': '094434 48811', 'Address': 'Thiruvaiyaru, thanjavur, thanjavur, State Of Tamil Nadu, India, 621715'}, {'Name': 'Invicon', 'Contact No': '095978 75145', 'Address': 'Dindigul, Dindigul, State Of Tamil Nadu, India, 624001'}, {'Name': 'Sathvik Interiors', 'Contact No': '098411 63433', 'Address': 'Velachery, Chennai, State Of Tamil Nadu, India, 600100'}, {'Name': 'Madhavan construction', 'Contact No': '086820 36458', 'Address': 'No.3 Venugopal street mahalakshmi nagar, Chennai, State Of Tamil Nadu, India, 600073'}, {'Name': 'Ds construction', 'Contact No': '098840 09658', 'Address': 'Chennai, India, 600106'}, {'Name': 'Mathan Manmathan', 'Contact No': '094433 90871', 'Address': '39 kambaramayana street, Vannarpettai, Tirunelveli, State Of Tamil Nadu, India, 627003'}, {'Name': 'jana_pk25', 'Contact No': '969', 'Address': 'salem, State Of Tamil Nadu, India, 636003'}, {'Name': 'Badal nivas', 'Contact No': 'View Phone Number', 'Address': 'Chennai, State Of Tamil Nadu, India, 602109'}, {'Name': 'Civil engineer', 'Contact No': '096776 68288', 'Address': 'Ramanathapuram, State Of Tamil Nadu, India, 623703'}, {'Name': 'Civil Engineer', 'Contact No': '099408 98068', 'Address': 'Karur, Karur, State Of Tamil Nadu, India, 639110'}, {'Name': 'gajendran', 'Contact No': '096771 48779', 'Address': 'bazullah road, chennai, India, 600017'}, {'Name': 'narayankannan73', 'Contact No': '080151 21410', 'Address': '93, bazzar st. kaveripakkam.632508, Chennai, India, 04172'}, {'Name': 'kumar_nv85', 'Contact No': '099528 24160', 'Address': '2560 T.N.H.B.Colony,villapuram, Madurai, India, Manian'}, {'Name': 'Shardadecor', 'Contact No': '081223 52689', 'Address': '26 astbhujam road Choolai, Chennai, State Of Tamil Nadu, India, 600112'}, {'Name': 'construction', 'Contact No': '098421 76949', 'Address': 'annamagar, madurai, India, 625020'}, {'Name': 'Nccc', 'Contact No': '044 4202 1820', 'Address': 'Chennai, India, 600116'}, {'Name': 'Asian builders', 'Contact No': '096556 21456', 'Address': 'Madurai, India, 625001'}, {'Name': 'I3 Interiors', 'Contact No': '094439 82558', 'Address': 'Chennai, Chennai, State Of Tamil Nadu, India, 600001'}, {'Name': 'Malliharjun J', 'Contact No': '097894 65926', 'Address': 'Chromepet, Chennai, State Of Tamil Nadu, India, 600044'}, {'Name': 'Jr.painters', 'Contact No': '087544 40046', 'Address': '6 Pachiyappan st, Chennai, State Of Tamil Nadu, India, 600078'}, {'Name': 'shyaman', 'Contact No': '085117 37307', 'Address': 'Chennai, India, 600100'}, {'Name': 'Ratish', 'Contact No': '099652 14353', 'Address': '98 madhu compex., Nasiyanur, State Of Tamil Nadu, India, 638107'}, {'Name': 'SNS CONTRACTS COMPANY', 'Contact No': 'View Phone Number', 'Address': 'Chennai, State Of Tamil Nadu, India, 600050'}, {'Name': 'kumara_amuthan', 'Contact No': '090872 68951', 'Address': 'Tirunelveli, India, 627223'}, {'Name': 'vishnu_raja8888', 'Contact No': '099945 55634', 'Address': 'Tirupur, India, 641652'}, {'Name': 'arun_ravivarma', 'Contact No': '080725 82742', 'Address': 'Kovilpatti, State Of Tamil Nadu, India, 628502'}, {'Name': 'House Fix', 'Contact No': '0452 290 0044', 'Address': 'Madurai, India, 625006'}, {'Name': 'Big Dream Builders', 'Contact No': '097860 10693', 'Address': 'India, 627002'}, {'Name': 'Linchpin Traders', 'Contact No': '080560 97078', 'Address': 'Chennai, State Of Tamil Nadu, India, 600074'}, {'Name': 'Engineer', 'Contact No': '099657 47009', 'Address': 'Coimbatore, State Of Tamil Nadu, India, 641011'}, {'Name': 'Plaza Groups', 'Contact No': '075021 68064', 'Address': 'Chennai, India, 600130'}, {'Name': 'guru_guru34', 'Contact No': '090474 10929', 'Address': 'Salem, India, 636102'}, {'Name': 'Mr look properties', 'Contact No': '76272697', 'Address': 'Chennai, India, 600019'}, {'Name': 'yeshwanth_r', 'Contact No': '097901 00816', 'Address': 'Sarada College Rd, Salem, India, 636007'}, {'Name': 'jazim_hameed', 'Contact No': '077083 11569', 'Address': 'Nagercoil, State Of Tamil Nadu, India, 629175'}, {'Name': 'prakash_prakash69', 'Contact No': '098421 93999', 'Address': '125 chinniyampalayam, Perundurai, India, 638052'}, {'Name': 'Manoj Sudahar', 'Contact No': '097869 76787', 'Address': 'csr infra builders, thadagam pudur, chinna thadagam, coimbatore, India, 641108'}, {'Name': 'omega', 'Contact No': '096002 77864', 'Address': 'kannandheri, salem, India, 637102'}, {'Name': 'Engineer', 'Contact No': '077087 56656', 'Address': 'Chennai, India, 600023'}, {'Name': 'Ak singh', 'Contact No': '081227 98684', 'Address': 'Teynampet, Chennai, State Of Tamil Nadu, India, no'}, {'Name': 'Contractar', 'Contact No': '099417 32313', 'Address': 'No.13,y,block,r.v.nagar,jafferkhanpet,chennai-83., Chennai, State Of Tamil Nadu, India, 600083'}, {'Name': 'Merch', 'Contact No': '097894 95393', 'Address': 'Tirupur, India, 641604'}, {'Name': 'Siraj Construction', 'Contact No': '094434 83314', 'Address': '174,Pavalar Colany, Beach Road., Nagercoil, State Of Tamil Nadu, India, 629002'}, {'Name': 'Apple curtains', 'Contact No': '099441 43435', 'Address': '735,7th street extension Gandhipuram cbe, Coimbatore, State Of Tamil Nadu, India, hi'}, {'Name': 'Subramaniya Siva', 'Contact No': '090802 88511', 'Address': '41 mettu street, Chengalpattu, India, 603002'}, {'Name': 'AbiAbisheik', 'Contact No': '082207 78865', 'Address': 'Kanniyakumari, State Of Tamil Nadu, India, 629003'}, {'Name': 'Sky Clouds', 'Contact No': '073387 14002', 'Address': 'Chennai, State Of Tamil Nadu, India, 600073'}, {'Name': 'Civil engineer', 'Contact No': '090034 88178', 'Address': 'Chennai, State Of Tamil Nadu, India, 600056'}, {'Name': 'Badal nivas', 'Contact No': '096772 16264', 'Address': 'Chennai, State Of Tamil Nadu, India, 602109'}, {'Name': 'dinesh_emmanuel', 'Contact No': '073393 56869', 'Address': 'Aruppukottai, India, 626101'}, {'Name': 'SVM consultancy & contractors', 'Contact No': '098427 67671', 'Address': '393,mani complex,Kunnathur Road,Perundurai, 1/16,Jeevanagar, Perundurai, India, 638052'}, {'Name': 'Civil engineering', 'Contact No': 'View Phone Number', 'Address': 'Chennai, Chennai, State Of Tamil Nadu, India, kkkkkkk'}, {'Name': 'sasi kumar', 'Contact No': '094435 18520', 'Address': '144 appu chetty street, Salem -2, India, 636002'}, {'Name': 'Ds construction', 'Contact No': '098840 09658', 'Address': 'Chennai, India, 600106'}, {'Name': 'Arunagiri', 'Contact No': '073734 43239', 'Address': '4/596, south street,kallar, Nagapattinam, State Of Tamil Nadu, India, 611001'}, {'Name': 'Sathvik Interiors', 'Contact No': '098411 63433', 'Address': 'Velachery, Chennai, State Of Tamil Nadu, India, 600100'}, {'Name': 'Retired  government servant', 'Contact No': '094438 17100', 'Address': 'Tiruchi, State Of Tamil Nadu, India, 620001'}, {'Name': 'dhanasekar_ap', 'Contact No': '088259 75157', 'Address': 'Chennai, State Of Tamil Nadu, India, 600049'}, {'Name': 'jason_gabriel2a', 'Contact No': '098432 11010', 'Address': 'Coimbatore, India, 641038'}, {'Name': 'navinms_kumar', 'Contact No': '093454 91981', 'Address': 'chidambaram, India, 608602'}, {'Name': 'jana_pk25', 'Contact No': '969', 'Address': 'salem, State Of Tamil Nadu, India, 636003'}, {'Name': 'Madhavan construction', 'Contact No': '086820 36458', 'Address': 'No.3 Venugopal street mahalakshmi nagar, Chennai, State Of Tamil Nadu, India, 600073'}, {'Name': 'Sakthivel Rajamanickam', 'Contact No': '098428 64264', 'Address': 'erode, Erode, State Of Tamil Nadu, India, 636903'}, {'Name': 'shonu architects', 'Contact No': '085261 88488', 'Address': '96, Main road, periyakrishnapuram,, pethanaickenpalayam taluk, Salem - 636115, salem, State Of Tamil Nadu, India, 636115'}, {'Name': 'sam india builtwell pvt ltd', 'Contact No': '090436 89349', 'Address': 'pavunjipattu, kallakurichi, State Of Tamil Nadu, India, 605702'}, {'Name': 'Mathan Manmathan', 'Contact No': '094433 90871', 'Address': '39 kambaramayana street, Vannarpettai, Tirunelveli, State Of Tamil Nadu, India, 627003'}, {'Name': 'Chennai prints', 'Contact No': 'View Phone Number', 'Address': 'Old no. 3/2, New no. 22/2, HUSSAIN MAISTRY STREET, ROYAPURAM, CHENNAI - 600013, Chennai, State Of Tamil Nadu, India, 600013'}, {'Name': 'Bhai Interiors & Decors', 'Contact No': '085266 58240', 'Address': 'Salem, State Of Tamil Nadu, India, 636905'}, {'Name': 'Rajabhakkiam foundations', 'Contact No': '095660 35387', 'Address': 'No.6/8, kodambakkam road west Mambalam, Chennai, State Of Tamil Nadu, India, 600083'}, {'Name': 'Afcons infrastructure', 'Contact No': '090473 90019', 'Address': 'No14.TNEB.AVADI.CHENNAI, Chennai, State Of Tamil Nadu, India, 600054'}, {'Name': 'Venkatesh', 'Contact No': '078100 54887', 'Address': 'Madurai, State Of Tamil Nadu, India, 625012'}, {'Name': 'Sri associate construction', 'Contact No': '094443 68906', 'Address': '15 flowers road, Chennai, State Of Tamil Nadu, India, 600107'}, {'Name': 'Civil Engineer', 'Contact No': '081222 18823', 'Address': 'Kumaran nagar, Trichy, State Of Tamil Nadu, India, 620017'}, {'Name': 'Raviraj. D', 'Contact No': '095661 28020', 'Address': 'chennai, State Of Tamil Nadu, India, 600083'}, {'Name': 'Vinoth J', 'Contact No': '090037 22712', 'Address': 'Vellagounder Nagar,Rayanoor, Karur, India, 639005'}, {'Name': 'saravanaraja Palaniappan', 'Contact No': '097919 70469', 'Address': '37/146, 2nd Cross, Ponnagar, 2nd cross ponnagar, trichy, State Of Tamil Nadu, India, 620001'}, {'Name': 'Civil engineer and contractor', 'Contact No': '098406 06579', 'Address': 'Guindy, Chennai, India, 600016'}, {'Name': 'Civil Engineer', 'Contact No': '095668 30789', 'Address': 'Kamaraj nager(vill), maruderi (P.o), pochampalli(T.k), krishnagiri (Dt), Krishnagiri, State Of Tamil Nadu, India, 635204'}, {'Name': 'kcmassociates', 'Contact No': '+1 422-439-9772', 'Address': 'coimbatore, India, 91'}, {'Name': 'monisha_selvam', 'Contact No': '073580 20194', 'Address': 'Chennai, India, 602024'}, {'Name': 'JAYAKUMAR R', 'Contact No': '636305', 'Address': 'Salem, State Of Tamil Nadu, India, 636302'}, {'Name': 'shonu architects', 'Contact No': 'View Phone Number', 'Address': '96, Main road, periyakrishnapuram,, pethanaickenpalayam taluk, Salem - 636115, salem, State Of Tamil Nadu, India, 636115'}, {'Name': 'jason_gabriel2a', 'Contact No': '098432 11010', 'Address': 'Coimbatore, India, 641038'}, {'Name': 'navinms_kumar', 'Contact No': '093454 91981', 'Address': 'chidambaram, India, 608602'}, {'Name': 'sanganithi_nithi', 'Contact No': '099421 02300', 'Address': 'chennai, India, 625515'}, {'Name': 'Civil engineering', 'Contact No': '097900 23689', 'Address': 'Chennai, Chennai, State Of Tamil Nadu, India, kkkkkkk'}, {'Name': 'SNS CONTRACTS COMPANY', 'Contact No': '086089 00069', 'Address': 'Chennai, State Of Tamil Nadu, India, 600050'}, {'Name': 'kumara_amuthan', 'Contact No': '090872 68951', 'Address': 'Tirunelveli, India, 627223'}, {'Name': 'vishnu_raja8888', 'Contact No': '099945 55634', 'Address': 'Tirupur, India, 641652'}, {'Name': 'arun_ravivarma', 'Contact No': '080725 82742', 'Address': 'Kovilpatti, State Of Tamil Nadu, India, 628502'}, {'Name': 'House Fix', 'Contact No': '0452 290 0044', 'Address': 'Madurai, India, 625006'}, {'Name': 'Big Dream Builders', 'Contact No': '097860 10693', 'Address': 'India, 627002'}, {'Name': 'Linchpin Traders', 'Contact No': '080560 97078', 'Address': 'Chennai, State Of Tamil Nadu, India, 600074'}, {'Name': 'Engineer', 'Contact No': '099657 47009', 'Address': 'Coimbatore, State Of Tamil Nadu, India, 641011'}, {'Name': 'Plaza Groups', 'Contact No': '075021 68064', 'Address': 'Chennai, India, 600130'}, {'Name': 'Pradeep Varghese', 'Contact No': 'View Phone Number', 'Address': '366, coimbatore, India, 641011'}, {'Name': 'Thevillage', 'Contact No': '097892 20537', 'Address': 'Coimbatore, State Of Tamil Nadu, India, 641017'}, {'Name': 'Creative Builders', 'Contact No': '096297 19144', 'Address': '22-Siya maricar street, Nagore, State Of Tamil Nadu, India, 611002'}, {'Name': 'Albert', 'Contact No': '098650 44603', 'Address': 'No:1, palayathan street, selaiyur, Chennai, State Of Tamil Nadu, India, 600073'}, {'Name': 'Vignesh', 'Contact No': '085262 65454', 'Address': 'Coimbatore, India, 642202'}, {'Name': 'Mnk contractor', 'Contact No': '096003 33206', 'Address': '3069 East main Street, Pudukottai, State Of Tamil Nadu, India, 622001'}, {'Name': 'Surendar Babu', 'Contact No': '086080 02381', 'Address': '64/44 m.s.naidu st, oldwashermenpet, chennai, State Of Tamil Nadu, India, 600021'}, {'Name': 'Chakra builders', 'Contact No': '077087 80331', 'Address': 'Madurai, State Of Tamil Nadu, India, 625020'}, {'Name': 'Home', 'Contact No': '099655 92234', 'Address': 'Chennai, India, 600003'}, {'Name': 'Jawa Har', 'Contact No': '088701 23318', 'Address': '287 Ellapalayam, salem, India, 637503'}, {'Name': 'Interior designer', 'Contact No': '097102 98158', 'Address': 'T.v.nagar, Chennai, State Of Tamil Nadu, India, 600118'}, {'Name': 'Hari', 'Contact No': '096980 12760', 'Address': 'Thiruvedagam, Madurai, State Of Tamil Nadu, India, 625234'}, {'Name': 'Chozha Construction', 'Contact No': '099949 35868', 'Address': 'Trichy, State Of Tamil Nadu, India, 620019'}, {'Name': 'Arul Construction', 'Contact No': '099440 45853', 'Address': '33/67 west ponnagaram 2nd Street,, Madurai, State Of Tamil Nadu, India, 625107'}, {'Name': 'ஞானம் திருமானூர்', 'Contact No': '094434 48811', 'Address': 'Thiruvaiyaru, thanjavur, thanjavur, State Of Tamil Nadu, India, 621715'}, {'Name': 'VNKT BUILDERS', 'Contact No': 'View Phone Number', 'Address': 'Pallikaranai, Chennai, India, 600100'}, {'Name': 'David Raynell', 'Contact No': '044 6686 0194', 'Address': 'Block No.31, Regus Grandeur 8th Floor, Samson Towers,, CASA Major Road, Egmore, Chennai, India, 600008'}, {'Name': 'Shahul', 'Contact No': '04282 250 470', 'Address': '70/1, First Gandhi road, Udaiyarpalayam, Attur,, Salem, State Of Tamil Nadu, India, 636102'}, {'Name': 'VJ Construction', 'Contact No': '099436 38640', 'Address': 'Kulasekharam, Nagercoil, State Of Tamil Nadu, India, 629161'}, {'Name': 'SMG TECH', 'Contact No': '098402 41692', 'Address': 'Besant Nagar, Chennai, State Of Tamil Nadu, India, 600090'}, {'Name': 'Self', 'Contact No': '088833 67961', 'Address': 'Karur, State Of Tamil Nadu, India, 639004'}, {'Name': 'Civil engineer', 'Contact No': '081488 52065', 'Address': 'Manthoppu last street, Devakottai, State Of Tamil Nadu, India, 630302'}, {'Name': 'Ecofriendly construction', 'Contact No': 'None', 'Address': 'M770/1, new TNHB, Krishnagiri, State Of Tamil Nadu, India, 635002'}, {'Name': 'merline_gp', 'Contact No': '094457 72641', 'Address': 'chennai, State Of Tamil Nadu, India, 603001'}, {'Name': 'Kirubai Foundation', 'Contact No': '094449 43507', 'Address': 'Chennai, State Of Tamil Nadu, India, 600099'}, {'Name': 'RevoLuTioN  BuiLDeRs.  # BaLa', 'Contact No': '098421 78560', 'Address': 'Rajapalayam, Madurai, State Of Tamil Nadu, India, 638401'}, {'Name': 'RAJPARIS', 'Contact No': '073584 95296', 'Address': 'Chennai, State Of Tamil Nadu, India, 600006'}, {'Name': 'Ragul Gandhi', 'Contact No': '900345018', 'Address': 'Thoranakkalpatti, Karur, State Of Tamil Nadu, India, 639003'}, {'Name': 'Dhinesh', 'Contact No': '088704 40172', 'Address': 'No 192 kvr nagar surya complex, Vandimexu, State Of Tamil Nadu, India, 605602'}, {'Name': 'Ramaa builders', 'Contact No': '090870 49668', 'Address': 'Chennai, India, 600018'}, {'Name': 'shyaman', 'Contact No': 'View Phone Number', 'Address': 'Chennai, India, 600100'}, {'Name': 'Ratish', 'Contact No': '099652 14353', 'Address': '98 madhu compex., Nasiyanur, State Of Tamil Nadu, India, 638107'}, {'Name': 'Veteran', 'Contact No': '080153 14884', 'Address': '21/10 4th street Jothinagar Thiruvottiyur Chennai 19, Chennai, India, 600019'}, {'Name': 'CR Construction', 'Contact No': '086680 20585', 'Address': '23 North agraharam street. Tirupattur, Vellore, India, 635601'}, {'Name': 'Sakthi', 'Contact No': '094438 28934', 'Address': '3/1298Rasinagar, Pochampalli, State Of Tamil Nadu, India, p.palli'}, {'Name': 'S.Velpandian', 'Contact No': '097903 97542', 'Address': '61R/I, Gandhi Road, Sivakasi, State Of Tamil Nadu, India, engineer'}, {'Name': 'Ajith', 'Contact No': '549861718', 'Address': 'Kanyakumari, State Of Tamil Nadu, India, 629174'}, {'Name': 'Jay civil solutions', 'Contact No': '076039 21036', 'Address': 'No 3, Chennai int, State Of Tamil Nadu, India, 600077'}, {'Name': 'Mani Kandan', 'Contact No': '082200 04308', 'Address': '174. mission street, Pondicherry, State Of Tamil Nadu, India, 605001'}, {'Name': 'Greenwoods', 'Contact No': '094443 15580', 'Address': 'Coimbatore, State Of Tamil Nadu, India, 641'}, {'Name': 'santhoz_kumar', 'Contact No': '082204 06092', 'Address': 'Coimbatore, India, 641027'}, {'Name': 'daran_daran83', 'Contact No': '07397 614 758', 'Address': 'theni, India, 625531'}, {'Name': 'balachandar_ks', 'Contact No': '078068 32320', 'Address': 'Chennai, State Of Tamil Nadu, India, 600037'}, {'Name': 'Aranmanai', 'Contact No': '097159 79303', 'Address': 'Tirupur, State Of Tamil Nadu, India, 641667'}, {'Name': 'vijayakumar_raju', 'Contact No': '099946 70671', 'Address': 'Chennai, India, 603102'}, {'Name': 'Aranmanai', 'Contact No': 'View Phone Number', 'Address': 'Tirupur, State Of Tamil Nadu, India, 641667'}, {'Name': 'Balamurugan', 'Contact No': '1918807342425', 'Address': 'Sathyamoorthi nager, Madurai, State Of Tamil Nadu, India, 625010'}, {'Name': 'the_kiddu', 'Contact No': '096773 71444', 'Address': 'Pudukkottai, India, 622001'}, {'Name': 'Sundaresan', 'Contact No': '082488 12488', 'Address': 'Madurai, India, 625016'}, {'Name': 'vishwajeet_bharti', 'Contact No': '088380 00186', 'Address': 'Chennai, State Of Tamil Nadu, India, 600094'}, {'Name': 'UB Designs', 'Contact No': '081108 83306', 'Address': 'Karaikudi, Karaikudi, State Of Tamil Nadu, India, 630001'}, {'Name': 'Shree moorthi construction', 'Contact No': '077082 62567', 'Address': 'Bhawani, Erode, State Of Tamil Nadu, India, 638301'}, {'Name': 'construction manager/ L&T', 'Contact No': '073737 32806', 'Address': '423, Ariyakuruchi,vettaneri post, Kollangudi., Sivagangai, India, 630556'}, {'Name': 'S.K&CO', 'Contact No': '0422 495 1424', 'Address': 'IIIrd Street, Tatabad, Coimbatore, State Of Tamil Nadu, India, 641012'}, {'Name': 'HiFi Builders', 'Contact No': '098418 17170', 'Address': 'Chennai, State Of Tamil Nadu, India, 600016'}, {'Name': 'srishtri', 'Contact No': '089407 71595', 'Address': 'Coimbatore, State Of Tamil Nadu, India, 641001'}, {'Name': 'RIG CONSTRUCTIONS', 'Contact No': '072008 34696', 'Address': 'Chennai, State Of Tamil Nadu, India, 600093'}, {'Name': 'SRI VINAYAGA CONSTRUCTIONS', 'Contact No': '098422 34999', 'Address': 'R GANESAMOORTHY, 202,C- SRIDEVINAGAR,, Coimabtore North, State Of Tamil Nadu, India, 641006'}, {'Name': 'L&V Construction', 'Contact No': '098949 50282', 'Address': '14,Kottur Road, Palayamkottai, Tirunelveli, Tirunelveli, State Of Tamil Nadu, India, 627002'}, {'Name': 'sudhirs foundation pvt ltd', 'Contact No': '098943 07880', 'Address': 'Chennai, State Of Tamil Nadu, India, 600017'}, {'Name': 'Dream Building makers and contractors', 'Contact No': 'View Phone Number', 'Address': 'Chennai, State Of Tamil Nadu, India, 600056'}, {'Name': 'R P Construction', 'Contact No': '099401 69949', 'Address': 'No, 22 Subha Shree nagar,, Mugalivakkam, chennai, India, 600125'}, {'Name': 'KAVIN', 'Contact No': '096262 82228', 'Address': 'Tirupur, State Of Tamil Nadu, India, 641665'}, {'Name': 'Civil Engineer', 'Contact No': '098941 22099', 'Address': 'Hosur, State Of Tamil Nadu, India, 635109'}, {'Name': 'Vettri  Homes', 'Contact No': '094425 25373', 'Address': 'Paramporul Garderns, Kalapatti, Coimbatore, State Of Tamil Nadu, India, 641048'}, {'Name': 'Lonsdaleite Construction', 'Contact No': '095000 02649', 'Address': 'Chennai, State Of Tamil Nadu, India, 600088'}, {'Name': 'Consulting Engineer', 'Contact No': '098401 35340', 'Address': 'S4 Shilpa Enclave 29&30 Suryaprakasam Street, Krishnapuram Ambattur O.T., Chennai, State Of Tamil Nadu, India, 600053'}, {'Name': 'covai studio', 'Contact No': '095005 32598', 'Address': 'coimbatore, coimbatore, State Of Tamil Nadu, India, 641002'}, {'Name': 'Sri Prasath Constructions', 'Contact No': '070101 64180', 'Address': 'Coimbatore, State Of Tamil Nadu, India, 641301'}, {'Name': 'Vignesh K S', 'Contact No': '095663 48607', 'Address': 'Coimbatore, Coimbatore, India, 641109'}, {'Name': 'Sakthivel', 'Contact No': '094434 99494', 'Address': 'Salem, State Of Tamil Nadu, India, 636009'}, {'Name': 'Shreemahalakshmi constructions', 'Contact No': '0422 422 0123', 'Address': 'Coimbatore, State Of Tamil Nadu, India, 641018'}, {'Name': 'uba construction and interiors', 'Contact No': '080569 38145', 'Address': 'India, 638301'}, {'Name': 'Chozha and Santhi Builders', 'Contact No': '096778 74159', 'Address': 'Thanjavur, State Of Tamil Nadu, India, 614802'}, {'Name': 'CAAD', 'Contact No': '079048 05025', 'Address': 'No. 24, Thumbakkam, Chennai -601 102, Tamil Nadu, India, Chennai, State Of Tamil Nadu, India, 601102'}, {'Name': 'Foot & Inch', 'Contact No': '098410 32322', 'Address': 'No.3A, 5th Main Road, MGR Nagar, Velachery, Chennai, State Of Tamil Nadu, India, 600042'}, {'Name': 'Mohanapriya R', 'Contact No': 'None', 'Address': 'India, 624802'}, {'Name': 'Professional', 'Contact No': '096290 50692', 'Address': 'Erode, State Of Tamil Nadu, India, 638002'}, {'Name': 'sudhirs foundation pvt ltd', 'Contact No': '098943 07880', 'Address': 'Chennai, State Of Tamil Nadu, India, 600017'}, {'Name': 'Arshath', 'Contact No': '099402 56926', 'Address': 'Chennai, State Of Tamil Nadu, India, 600005'}, {'Name': 'Rajesh Constructions', 'Contact No': '091505 60506', 'Address': 'Chennai, State Of Tamil Nadu, India, 600040'}, {'Name': 'Srinivasan Srivatsan', 'Contact No': '094445 68763', 'Address': 'Chennai, State Of Tamil Nadu, India, 600095'}, {'Name': 'Jas construction', 'Contact No': '098941 80324', 'Address': 'kanyakumari, State Of Tamil Nadu, India, 629003'}, {'Name': 'picknstick', 'Contact No': '073730 33293', 'Address': 'Coimbatore, State Of Tamil Nadu, India, 641017'}, {'Name': 'Gothai Associates', 'Contact No': '090478 44041', 'Address': 'no 5/42-5, mariyamman kovil south street, seelanayakanpatti po salem tk, State Of Tamil Nadu, India, 636201'}, {'Name': 'KVC BUILDERS', 'Contact No': '099765 20714', 'Address': 'Pudukkottai, State Of Tamil Nadu, India, 614801'}, {'Name': 'GR Constructions', 'Contact No': '088078 99973', 'Address': 'Tirupur, State Of Tamil Nadu, India, 641603'}, {'Name': 'Ashab Builders', 'Contact No': '098948 94053', 'Address': 'Vellore, State Of Tamil Nadu, India, 632001'}, {'Name': 'Arima Constructions', 'Contact No': '097888 42999', 'Address': 'Coimbatore, State Of Tamil Nadu, India, 641004'}, {'Name': 'Mks builders', 'Contact No': '095666 26658', 'Address': 'Coimbatore, State Of Tamil Nadu, India, 641302'}, {'Name': 'Arima Constructions', 'Contact No': 'View Phone Number', 'Address': 'Coimbatore, State Of Tamil Nadu, India, 641004'}, {'Name': 'Mks builders', 'Contact No': '095666 26658', 'Address': 'Coimbatore, State Of Tamil Nadu, India, 641302'}, {'Name': 'ENgineering', 'Contact No': '095857 11124', 'Address': 'Coimbatore, State Of Tamil Nadu, India, 641013'}, {'Name': 'arunachala builders', 'Contact No': '097868 75658', 'Address': 'coimbatore, State Of Tamil Nadu, India, 641107'}, {'Name': 'GS Builders chennai,tamilnadu,INDIA', 'Contact No': '095000 51561', 'Address': 'CHENNAI, India, 600024'}, {'Name': 'A S Balu', 'Contact No': '098422 51676', 'Address': 'Coimbatore, State Of Tamil Nadu, India, 641043'}, {'Name': 'Jacobengineers', 'Contact No': '091769 72727', 'Address': 'No 7, 100 Feet Road, Rajeshwari Nagar Extention Selaiyur, Tambaram, Chennai, Tamil Nadu 600073, Chennai, State Of Tamil Nadu, India, 600073'}, {'Name': 'Anbarasu', 'Contact No': '098944 99225', 'Address': 'h.gobinathampatti, Dharmapuri, State Of Tamil Nadu, India, 636903'}, {'Name': 'Exodia', 'Contact No': '096299 80494', 'Address': 'Hosur, India, 635 110'}, {'Name': 'marichamysargunam', 'Contact No': '080157 90825', 'Address': 'Theni, State Of Tamil Nadu, India, 625528'}, {'Name': 'Karthikeyan', 'Contact No': '081488 14818', 'Address': 'Edappdi, State Of Tamil Nadu, India, 637102'}, {'Name': 'Gvrr', 'Contact No': '98848', 'Address': 'Gfdr, Chennai, India, 600117'}, {'Name': 'Mother construction', 'Contact No': '097907 54196', 'Address': 'No.7,4th main road,IOB colony,camp road, Chennai, State Of Tamil Nadu, India, 600073'}, {'Name': 'Prabhu', 'Contact No': 'View Phone Number', 'Address': 'Manali, Nagercoil, State Of Tamil Nadu, India, 629175'}, {'Name': 'Shiva constrution', 'Contact No': '082706 50549', 'Address': 'Vandipeetai, Kumbakonam, State Of Tamil Nadu, India, 612602'}, {'Name': 'Prince cad', 'Contact No': '098420 26569', 'Address': '410 G munniyapan kovil street vakkil thottam manickam palyam, Erode, State Of Tamil Nadu, India, 638004'}, {'Name': 'Om  constructions', 'Contact No': '098417 20900', 'Address': 'DP 112/6, Ambattur industrial estate, chennai, India, 600058'}, {'Name': 'scspraveen95', 'Contact No': '097889 97060', 'Address': 'Maraimalai Nagar, chennai, India, 603209'}, {'Name': 'artistry builders', 'Contact No': '090929 31181', 'Address': 'kk nagar, madurai, India, 625106'}, {'Name': 'Silambarasan', 'Contact No': '082705 31995', 'Address': 'Sunganthidal small street,vennar(po),karanthai thanjavur, Thanjavur, State Of Tamil Nadu, India, 613002'}, {'Name': 'Aghnie builders', 'Contact No': '098431 18281', 'Address': 'Bharthi nagar, Kunimuthur, Coimbatore, India, 641008'}, {'Name': 'E.karthi', 'Contact No': '099447 02208', 'Address': '147,Road street, Cuddalore, State Of Tamil Nadu, India, 608703'}, {'Name': 'Civil engineer', 'Contact No': '098429 48700', 'Address': 'Tanjore, India, 614804'}, {'Name': 'Primetech', 'Contact No': '232152', 'Address': 'Thanjavur, State Of Tamil Nadu, India, 613001'}, {'Name': 'karthick raja', 'Contact No': '099944 83215', 'Address': '3/780,vairan kadu, velayuthamplayam, avinashi, India, 641654'}, {'Name': 'Creative archies', 'Contact No': '070107 48207', 'Address': 'Erode, State Of Tamil Nadu, India, 9488924419'}, {'Name': 'Renov8 construction people', 'Contact No': '098846 99234', 'Address': '30 R A puram, Chennai, State Of Tamil Nadu, India, 600015'}, {'Name': 'Arun', 'Contact No': '044 2678 1410', 'Address': 'Chennai, State Of Tamil Nadu, India, 600118'}, {'Name': 'Supervisor', 'Contact No': 'View Phone Number', 'Address': '2w, theradistreet, Bodinayakanur, India, 625513'}, {'Name': 'Civil engineering', 'Contact No': '099444 95372', 'Address': 'S.alangulam, Madurai, India, 99444'}, {'Name': 'R.RANJITH KUMAR.BE', 'Contact No': '081440 20890', 'Address': '906A mullai nagar, Anandal village, boothamagalam post, Thiruvannamalai, State Of Tamil Nadu, India, 606902'}, {'Name': 'cooling towers', 'Contact No': '099420 19187', 'Address': 'hosur, India, 635001'}, {'Name': 'Tax Consultant', 'Contact No': '098422 17422', 'Address': 'Coimbatore, India, 641035'}, {'Name': 'Moshin', 'Contact No': '097885 54011', 'Address': 'Coimbatore, India, 641032'}, {'Name': 'Ags Gnana sekaran', 'Contact No': '080154 67304', 'Address': 'Thottapalayam, Vellore, State Of Tamil Nadu, India, 632004'}, {'Name': 'Suresh krishnan', 'Contact No': '083441 74728', 'Address': 'Salm, State Of Tamil Nadu, India, 636401'}, {'Name': 'Vjk Enterprises', 'Contact No': '096294 45577', 'Address': 'Anna Nagar, Chennai, India, 600028'}, {'Name': 'seba construction', 'Contact No': '088701 23333', 'Address': 'lingam nagar, trichy, State Of Tamil Nadu, India, 620003'}, {'Name': 'Jevaa builders', 'Contact No': '099943 01644', 'Address': 'PAPANASAM, India, 614205'}, {'Name': 'Dharshini homes Pvt Ltd', 'Contact No': '044 4554 3054', 'Address': '20/161 Karuneegar street,Adambakkam, Chennai, State Of Tamil Nadu, India, 600088'}, {'Name': 'ajay', 'Contact No': '097875 13733', 'Address': 'coimbatore, State Of Tamil Nadu, India, 641035'}, {'Name': 'SD illam', 'Contact No': '094886 14388', 'Address': 'Karanthai, Thanjavur, India, 613002'}, {'Name': 'engineer', 'Contact No': '088382 06621', 'Address': 'anna seerani st, dharmapuri, State Of Tamil Nadu, India, 636905'}, {'Name': 'statex engg p ltd', 'Contact No': 'View Phone Number', 'Address': 'E.49,SIDCO, Coimbatore 21, Coimbatore, India, 641021'}, {'Name': 'srivealnhollowblocks', 'Contact No': '919443702588', 'Address': '4/141, goundampalayam, tirupur, India, 641664'}, {'Name': 'golden homes', 'Contact No': '095515 59956', 'Address': '99s block, chennai, India, 600037'}, {'Name': 'Harish Jegadeesan', 'Contact No': '095970 84712', 'Address': 'KK Nagar, Chennai, Chennai, India, 600078'}, {'Name': 'Civil engineer', 'Contact No': '098422 23097', 'Address': '51 perumal nagar, kovaipudur,, Coimbatore, State Of Tamil Nadu, India, 641042'}, {'Name': 'Clarion homes', 'Contact No': '090039 23075', 'Address': '136,periaswamy road,rd puram, Coimbatore, India, 641045'}, {'Name': 'Talentpaark - BPO Service in Chennai', 'Contact No': '044 3535 3001', 'Address': 'Chennai, State Of Tamil Nadu, India'}, {'Name': 'Navaneet', 'Contact No': '075024 37803', 'Address': 'Coimbatore district, State Of Tamil Nadu, India'}, {'Name': 'alphaassociates2005', 'Contact No': '098413 19486', 'Address': '13, Lakshman nagar, second cross street, chennai, India, 600082'}, {'Name': 'Constructions India.', 'Contact No': '098421 80600', 'Address': '178 A,North veli street, Madurai, State Of Tamil Nadu, India, 625001'}, {'Name': 'PVN Constructions', 'Contact No': '0424 233 9105', 'Address': '144 Chennimalai Road, Erode, State Of Tamil Nadu, India, 638001'}, {'Name': 'shankarharshit', 'Contact No': '070107 02526', 'Address': '234, salem, India, 636008'}, {'Name': 'Anarghya developers', 'Contact No': '096009 60148', 'Address': 'Coimbatore, India, 641041'}, {'Name': 'Student', 'Contact No': '099628 33366', 'Address': 'Chennai, State Of Tamil Nadu, India, 600041'}, {'Name': 'Riverview horticultural farm', 'Contact No': '090438 81124', 'Address': 'coimbatore, State Of Tamil Nadu, India, 641012'}, {'Name': 'webuser_146716850', 'Contact No': 'View Phone Number', 'Address': '2/301,. Periyar colony, n.panjampatti, Dindigul, tamilnadu, India, Dindigul'}, {'Name': 'JJ Enterprises', 'Contact No': '099408 51439', 'Address': 'Chennai, State Of Tamil Nadu, India, 602001'}, {'Name': 'arc Builders', 'Contact No': '080565 35925', 'Address': 'India, 625009'}, {'Name': 'Stanly Constructions', 'Contact No': '090259 24447', 'Address': 'India, 641602'}, {'Name': 'AMMAN BUILDERS', 'Contact No': '099408 12015', 'Address': 'India, 641006'}, {'Name': 'Aslam', 'Contact No': '079754 75834', 'Address': 'India, 632517'}, {'Name': 'RD', 'Contact No': '099415 92482', 'Address': 'India, 604203'}, {'Name': 'JMY CONSTRUCTION', 'Contact No': '090954 82740', 'Address': 'India, 610105'}, {'Name': 'Arunachalam', 'Contact No': '099440 58985', 'Address': 'Coimbatore, India, 641001'}, {'Name': 'sudharsan_kalai', 'Contact No': '090421 11123', 'Address': 'Chennai, State Of Tamil Nadu, India, 600050'}, {'Name': 'Senthil Kumar &Associates', 'Contact No': '075026 84966', 'Address': 'Chennai, State Of Tamil Nadu, India, 600125'}, {'Name': 'dharman_r', 'Contact No': '098653 70563', 'Address': 'Erode, India, 638311'}, {'Name': 'devspace', 'Contact No': '094428 85486', 'Address': 'India, 629193'}, {'Name': 'Sat Elite construction', 'Contact No': '088384 17005', 'Address': 'India, 636601'}, {'Name': 'HARENDRA DEVELOPERS', 'Contact No': '099403 90734', 'Address': 'India, 600024'}, {'Name': 'Murugesh', 'Contact No': '090420 20061', 'Address': 'India, 641006'}, {'Name': 'Harsha construction', 'Contact No': '087626 92409', 'Address': 'India, 638051'}, {'Name': 'Kumaran', 'Contact No': '097878 94079', 'Address': 'India, 642201'}, {'Name': 'SRI RK DREAM BUILDERS', 'Contact No': '070927 21984', 'Address': 'Gobichettipalayam, Gobichettipalayam, State Of Tamil Nadu, India, 638452'}, {'Name': 'Secure Structure', 'Contact No': '098844 40499', 'Address': '28, Ist Cross st. Redhills Road, Villiwakkam, Chennai, India, 600049'}, {'Name': 'Sri Murugan Construction', 'Contact No': '077080 13600', 'Address': 'India, 603103'}, {'Name': 'Xposedbrick Realty', 'Contact No': '095001 50725', 'Address': 'India, 600073'}, {'Name': 'Karthikeyan', 'Contact No': '081488 14818', 'Address': 'Edappdi, State Of Tamil Nadu, India, 637102'}, {'Name': 'Suresh krishnan', 'Contact No': '083441 74728', 'Address': 'Salm, State Of Tamil Nadu, India, 636401'}, {'Name': 'Buvan', 'Contact No': '01234 567 890', 'Address': 'Chennai, India, 5006'}, {'Name': 'Vjk Enterprises', 'Contact No': '096294 45577', 'Address': 'Anna Nagar, Chennai, India, 600028'}, {'Name': 'seba construction', 'Contact No': '088701 23333', 'Address': 'lingam nagar, trichy, State Of Tamil Nadu, India, 620003'}, {'Name': 'cooling towers', 'Contact No': '099420 19187', 'Address': 'hosur, India, 635001'}, {'Name': 'Nayara', 'Contact No': 'View Phone Number', 'Address': 'Chennai, India, 600003'}, {'Name': 'Jp jp', 'Contact No': '098429 85606', 'Address': 'Chennai, State Of Tamil Nadu, India, 635305'}, {'Name': 'Suresh suresh.v', 'Contact No': '096774 78386', 'Address': 'Pudunager, villupuram, Tindivanam, India, 604154'}, {'Name': 'Pragadees/raje contructions', 'Contact No': '073589 43377', 'Address': 'Pollachi, India, 642003'}, {'Name': 'Civil engineer', 'Contact No': '086676 29941', 'Address': 'Chennai, State Of Tamil Nadu, India, 603003'}, {'Name': 'Tags', 'Contact No': '090031 28155', 'Address': 'Mannivakkam, Chennai, State Of Tamil Nadu, India, 600048'}, {'Name': 'Crr construction', 'Contact No': '094884 54067', 'Address': 'Hosur, India, 635117'}, {'Name': 'Structs & design', 'Contact No': '096296 94236', 'Address': 'coimbatore, State Of Tamil Nadu, India, 641027'}, {'Name': 'Gokul construction', 'Contact No': '090427 34401', 'Address': 'Vennandur, Rasipuram, State Of Tamil Nadu, India, 637505'}, {'Name': 'Ganga chitanya pvt ltd', 'Contact No': '098946 18626', 'Address': 'Ecr, Chennai, India, 600115'}, {'Name': 'Jeeva construction', 'Contact No': '098659 51021', 'Address': 'Coimbatore, State Of Tamil Nadu, India, 641008'}, {'Name': 'Mayil', 'Contact No': '096002 23289', 'Address': 'Prem Kumar, Coimbatore, State Of Tamil Nadu, India, 3704'}, {'Name': 'Tamizharasan.N', 'Contact No': '098949 56401', 'Address': 'Perambalur, Trichy, State Of Tamil Nadu, India, 12345'}, {'Name': 'CIVIL Engineer', 'Contact No': '099765 20963', 'Address': 'Madurai, State Of Tamil Nadu, India, 625001'}, {'Name': 'S R construction', 'Contact No': '099652 30171', 'Address': 'Royakottai, Hosur, State Of Tamil Nadu, India, 636805'}, {'Name': 'Arun', 'Contact No': '044 2678 1410', 'Address': 'Chennai, State Of Tamil Nadu, India, 600118'}, {'Name': 'TS BUILDERS', 'Contact No': '098421 72266', 'Address': '178-A, North Veli Street, Madurai, India, 625001'}, {'Name': 'pasu_malai', 'Contact No': '0452 422 5116', 'Address': 'madurai-625007, madurai, India, 625007'}, {'Name': 'Er. Vetrivel', 'Contact No': '090475 31471', 'Address': 'Dharmapuri, India, 636701'}, {'Name': 'Rd construction works', 'Contact No': '096772 92493', 'Address': 'Chennai, India, 600117'}, {'Name': 'Civil engineer', 'Contact No': '095970 74954', 'Address': 'Hosur, India, 635109'}, {'Name': 'Baalajee construction', 'Contact No': '097902 96006', 'Address': 'Kavignar Kannadasan Nagar Main Rd, Chennai, India, 600083'}, {'Name': 'None', 'Contact No': '089039 79553', 'Address': 'Puducherry, State Of Tamil Nadu, India, 605007'}, {'Name': 'V3group interior', 'Contact No': '098840 19643', 'Address': 'No 181, Chennai, State Of Tamil Nadu, India, 600021'}, {'Name': 'Vinnagar Builders', 'Contact No': '094440 21511', 'Address': 'Chennai, India, 600078'}, {'Name': 'Lonestaar', 'Contact No': '083449 60001', 'Address': 'Pollachi, State Of Tamil Nadu, India, 642107'}, {'Name': 'naren house plans', 'Contact No': '076018 70465', 'Address': 'trichy, India, 621306'}, {'Name': 'Geeth', 'Contact No': '090923 74283', 'Address': 'Coimbatore, State Of Tamil Nadu, India, 641658'}, {'Name': 'Sri annamalaiyar infrastructure', 'Contact No': '089396 36646', 'Address': 'Chennai, India, 600099'}, {'Name': 'Anand', 'Contact No': '094444 83905', 'Address': 'Chennai, State Of Tamil Nadu, India, 600002'}, {'Name': 'Er. Vetrivel', 'Contact No': '090475 31471', 'Address': 'Dharmapuri, India, 636701'}, {'Name': 'naren house plans', 'Contact No': '076018 70465', 'Address': 'trichy, India, 621306'}, {'Name': 'Lonestaar', 'Contact No': '083449 60001', 'Address': 'Pollachi, State Of Tamil Nadu, India, 642107'}, {'Name': 'Sri annamalaiyar infrastructure', 'Contact No': '089396 36646', 'Address': 'Chennai, India, 600099'}, {'Name': 'Varman Designs', 'Contact No': '070109 20045', 'Address': 'Perambalur, State Of Tamil Nadu, India, 621212'}, {'Name': 'Arun', 'Contact No': '044 2678 1410', 'Address': 'Chennai, State Of Tamil Nadu, India, 600118'}, {'Name': 'Baalajee construction', 'Contact No': '097902 96006', 'Address': 'Kavignar Kannadasan Nagar Main Rd, Chennai, India, 600083'}, {'Name': 'TS BUILDERS', 'Contact No': '098421 72266', 'Address': '178-A, North Veli Street, Madurai, India, 625001'}, {'Name': 'noorbuilders', 'Contact No': '+1 919842820902', 'Address': 'erode, India, 638001'}, {'Name': 'Rithish', 'Contact No': '094423 93082', 'Address': 'Kulamangalam, Madurai, India, 625017'}, {'Name': 'webuser_273745927', 'Contact No': '099728 43943', 'Address': 'Coimbatore, India, 641006'}, {'Name': 'Civil', 'Contact No': '097868 75658', 'Address': 'Ooty, India, 643002'}, {'Name': 'Site supervisor', 'Contact No': '087602 39331', 'Address': 'Mathur, Maravapalayam, State Of Tamil Nadu, India, 638314'}, {'Name': 'Software', 'Contact No': '098842 76965', 'Address': 'Jambuvonodai melakadu,muthupettai, Muthupettai, State Of Tamil Nadu, India, 614704'}, {'Name': 'Civil Engineer', 'Contact No': '093452 13939', 'Address': 'Madurai, State Of Tamil Nadu, India, 625014'}, {'Name': 'Clarion homes', 'Contact No': '090039 23075', 'Address': '136,periaswamy road,rd puram, Coimbatore, India, 641045'}, {'Name': 'Talentpaark - BPO Service in Chennai', 'Contact No': '044 3535 3001', 'Address': 'Chennai, State Of Tamil Nadu, India'}, {'Name': 'Navaneet', 'Contact No': '075024 37803', 'Address': 'Coimbatore district, State Of Tamil Nadu, India'}, {'Name': 'Royal construction', 'Contact No': '099942 13727', 'Address': 'Salem, State Of Tamil Nadu, India, 636009'}, {'Name': 'shankarharshit', 'Contact No': '070107 02526', 'Address': '234, salem, India, 636008'}, {'Name': 'Anarghya developers', 'Contact No': '096009 60148', 'Address': 'Coimbatore, India, 641041'}, {'Name': 'webuser_365872164', 'Contact No': '095243 40078', 'Address': 'Madurai, State Of Tamil Nadu, India, Madurai'}, {'Name': 'Crc construction', 'Contact No': '090255 26421', 'Address': 'India, 636112'}, {'Name': 'bdc construction', 'Contact No': '07397 413 100', 'Address': 'India, 600078'}, {'Name': 'Bluebetons', 'Contact No': '096264 25588', 'Address': 'India, 641603'}, {'Name': 'SRI JP BUILDERS', 'Contact No': '081226 75904', 'Address': 'India, 641652'}, {'Name': 'webuser_597945393', 'Contact No': '098848 82070', 'Address': 'Chennai, India, 600014'}, {'Name': 'Interior designer', 'Contact No': '099426 22117', 'Address': 'Coimbatore, State Of Tamil Nadu, India, 638007'}, {'Name': 'webuser_655140184', 'Contact No': '079045 53860', 'Address': 'Theni, India, 622531'}, {'Name': 'Sarrathi constructions', 'Contact No': '19840524873', 'Address': 'Chennai, India, 600110'}, {'Name': 'Venkat consulting builder', 'Contact No': 'View Phone Number', 'Address': 'Dindigul, State Of Tamil Nadu, India, 624001'}, {'Name': 'Murugesh', 'Contact No': '090420 20061', 'Address': 'India, 641006'}, {'Name': 'Harsha construction', 'Contact No': '087626 92409', 'Address': 'India, 638051'}, {'Name': 'Kumaran', 'Contact No': '097878 94079', 'Address': 'India, 642201'}, {'Name': 'SRI RK DREAM BUILDERS', 'Contact No': '070927 21984', 'Address': 'Gobichettipalayam, Gobichettipalayam, State Of Tamil Nadu, India, 638452'}, {'Name': 'Secure Structure', 'Contact No': '098844 40499', 'Address': '28, Ist Cross st. Redhills Road, Villiwakkam, Chennai, India, 600049'}, {'Name': 'Sri Murugan Construction', 'Contact No': '077080 13600', 'Address': 'India, 603103'}, {'Name': 'Xposedbrick Realty', 'Contact No': '095001 50725', 'Address': 'India, 600073'}, {'Name': 'Site engineer', 'Contact No': '097879 58304', 'Address': 'Theni, India, 625515'}, {'Name': 'None', 'Contact No': '089039 79553', 'Address': 'Puducherry, State Of Tamil Nadu, India, 605007'}, {'Name': 'Kcr enterprise', 'Contact No': '087786 70027', 'Address': 'Chennai, State Of Tamil Nadu, India, 600017'}, {'Name': 'webuser_275069088', 'Contact No': '099417 32313', 'Address': 'chennai, India, 600083'}, {'Name': 'Shiva constrution', 'Contact No': '082706 50549', 'Address': 'Vandipeetai, Kumbakonam, State Of Tamil Nadu, India, 612602'}, {'Name': 'Mayura builders', 'Contact No': '099409 70389', 'Address': 'VELLORE, State Of Tamil Nadu, India, 635804'}, {'Name': 'iocl', 'Contact No': 'View Phone Number', 'Address': 'Chennai, India, 600018'}, {'Name': 'Prabhu', 'Contact No': '096592 95915', 'Address': 'Manali, Nagercoil, State Of Tamil Nadu, India, 629175'}, {'Name': 'Shiva constrution', 'Contact No': '082706 50549', 'Address': 'Vandipeetai, Kumbakonam, State Of Tamil Nadu, India, 612602'}, {'Name': 'Prince cad', 'Contact No': '098420 26569', 'Address': '410 G munniyapan kovil street vakkil thottam manickam palyam, Erode, State Of Tamil Nadu, India, 638004'}, {'Name': 'Om  constructions', 'Contact No': '098417 20900', 'Address': 'DP 112/6, Ambattur industrial estate, chennai, India, 600058'}, {'Name': 'scspraveen95', 'Contact No': '097889 97060', 'Address': 'Maraimalai Nagar, chennai, India, 603209'}, {'Name': 'artistry builders', 'Contact No': '090929 31181', 'Address': 'kk nagar, madurai, India, 625106'}, {'Name': 'Silambarasan', 'Contact No': '082705 31995', 'Address': 'Sunganthidal small street,vennar(po),karanthai thanjavur, Thanjavur, State Of Tamil Nadu, India, 613002'}, {'Name': 'Aghnie builders', 'Contact No': '098431 18281', 'Address': 'Bharthi nagar, Kunimuthur, Coimbatore, India, 641008'}, {'Name': 'E.karthi', 'Contact No': '099447 02208', 'Address': '147,Road street, Cuddalore, State Of Tamil Nadu, India, 608703'}, {'Name': 'Civil engineer', 'Contact No': '098429 48700', 'Address': 'Tanjore, India, 614804'}, {'Name': 'Primetech', 'Contact No': '232152', 'Address': 'Thanjavur, State Of Tamil Nadu, India, 613001'}, {'Name': 'karthick raja', 'Contact No': '099944 83215', 'Address': '3/780,vairan kadu, velayuthamplayam, avinashi, India, 641654'}, {'Name': 'Creative archies', 'Contact No': '070107 48207', 'Address': 'Erode, State Of Tamil Nadu, India, 9488924419'}, {'Name': 'Renov8 construction people', 'Contact No': '098846 99234', 'Address': '30 R A puram, Chennai, State Of Tamil Nadu, India, 600015'}, {'Name': 'R.RANJITH KUMAR.BE', 'Contact No': 'View Phone Number', 'Address': '906A mullai nagar, Anandal village, boothamagalam post, Thiruvannamalai, State Of Tamil Nadu, India, 606902'}, {'Name': 'cooling towers', 'Contact No': '099420 19187', 'Address': 'hosur, India, 635001'}, {'Name': 'Civil engineer', 'Contact No': '090432 96547', 'Address': 'Coimbatore, State Of Tamil Nadu, India, 641026'}, {'Name': 'Pranaav Consultants', 'Contact No': '098404 00011', 'Address': 'Flat No 5-E, KG Srivathsa GardensNo 9, South Avenue, Srinagar Colony, Saidapet, Chennai, India, 600015'}, {'Name': 'DC CONSTRUCTION', 'Contact No': '089733 28970', 'Address': 'Middle street, Tanjore, State Of Tamil Nadu, India, 609503'}, {'Name': 'Gvrr', 'Contact No': '98848', 'Address': 'Gfdr, Chennai, India, 600117'}, {'Name': 'Dhans Design & Construct Private Limited', 'Contact No': '073581 63101', 'Address': 'Chennai, State Of Tamil Nadu, India, 629004'}, {'Name': 'Sri Varsh', 'Contact No': '098653 33003', 'Address': 'Coimbatore, State Of Tamil Nadu, India, 641004'}, {'Name': 'Moshin', 'Contact No': '097885 54011', 'Address': 'Coimbatore, India, 641032'}, {'Name': 'Prasad', 'Contact No': '095515 24392', 'Address': 'Velacherry, Chennai, State Of Tamil Nadu, India, 600088'}, {'Name': 'TCP J', 'Contact No': '077088 06661', 'Address': 'coimbatore, India, 641014'}, {'Name': 'ajay', 'Contact No': '097875 13733', 'Address': 'coimbatore, State Of Tamil Nadu, India, 641035'}, {'Name': 'velavan construction', 'Contact No': '090422 53640', 'Address': 'pollachi, State Of Tamil Nadu, India, 642002'}, {'Name': 'Santhosh', 'Contact No': '096261 32901', 'Address': 'Ragupathinayakan palayam, Erode, India, 638002'}, {'Name': 'Mother construction', 'Contact No': '097907 54196', 'Address': 'No.7,4th main road,IOB colony,camp road, Chennai, State Of Tamil Nadu, India, 600073'}, {'Name': 'Thalha builders', 'Contact No': 'View Phone Number', 'Address': '64,haaji meera nagar, edhuga Street,B.p.agraharam, Erode, State Of Tamil Nadu, India, 638005'}, {'Name': 'Builtearth', 'Contact No': '098401 90911', 'Address': 'Chennai, State Of Tamil Nadu, India, 600020'}, {'Name': 'MRM CONSTRUCTION', 'Contact No': '097515 14780', 'Address': 'Sk, Tenkasi, State Of Tamil Nadu, India, 627811'}, {'Name': 'dhi building', 'Contact No': '097150 09832', 'Address': 'Kavundampalayam, Coimbatore, India, 641302'}, {'Name': 'Mm construction', 'Contact No': '090926 45978', 'Address': 'Madurai, India, 625014'}, {'Name': 'Rudal', 'Contact No': 'None', 'Address': 'New bus stand, Nagercoil, State Of Tamil Nadu, India, 62ooo1'}, {'Name': 'Engineer', 'Contact No': '624306', 'Address': 'Pugailaipatty, Dindigul, State Of Tamil Nadu, India, 624306'}, {'Name': 'Kcr enterprise', 'Contact No': '087786 70027', 'Address': 'Chennai, State Of Tamil Nadu, India, 600017'}, {'Name': 'P Mukundhan', 'Contact No': '098844 55185', 'Address': '4/11, 11th street, nanganallur, Chennai, State Of Tamil Nadu, India, 600061'}, {'Name': 'Indya infra engineers', 'Contact No': '099526 75999', 'Address': 'Coimbatore, India, 641025'}, {'Name': 'webuser_273745927', 'Contact No': '099728 43943', 'Address': 'Coimbatore, India, 641006'}, {'Name': 'Civil Engineer', 'Contact No': '093452 13939', 'Address': 'Madurai, State Of Tamil Nadu, India, 625014'}, {'Name': 'Rithish', 'Contact No': '094423 93082', 'Address': 'Kulamangalam, Madurai, India, 625017'}, {'Name': 'noorbuilders', 'Contact No': '+1 919842820902', 'Address': 'erode, India, 638001'}, {'Name': 'DUCO Infra India Pvt Ltd', 'Contact No': '044 2276 2785', 'Address': '23 Meladai 1st Cross Steet, West Tambaram, Chennai, India, 600063'}, {'Name': 'Kvr constructions', 'Contact No': 'View Phone Number', 'Address': 'Coimbatore, India, 641402'}, {'Name': 'Sg home work', 'Contact No': '094447 85151', 'Address': '56.sri annamalai garden karlapakkam, Chennai, State Of Tamil Nadu, India, 602024'}, {'Name': 'BRS builders &Associates', 'Contact No': '099449 63152', 'Address': 'R.S puram, coimbatore, India, 641002'}, {'Name': 'PMR construction', 'Contact No': '080988 71878', 'Address': '354/A, higher secondary school street,, Kadamalaikundu, Theni District, State Of Tamil Nadu, India, 625579'}, {'Name': 'Civil engineer/ SFF SKK builders', 'Contact No': '074189 59702', 'Address': 'Chennai, State Of Tamil Nadu, India, 600078'}, {'Name': 'PRATHYUSHA', 'Contact No': '091788 96942', 'Address': 'af/1,24/22,guru Akshaya apartments,Kanakammal colony,nanganallur, chennai, India, 0091'}, {'Name': 'Ramesh  Vijai', 'Contact No': '087544 72453', 'Address': 'no 10 vigneshwara nagar Sholinganallur ch-119, Chennai, India, 600119'}, {'Name': 'webuser_146716850', 'Contact No': '078713 11609', 'Address': '2/301,. Periyar colony, n.panjampatti, Dindigul, tamilnadu, India, Dindigul'}, {'Name': 'Sathish Raja', 'Contact No': '090879 00092', 'Address': '37/41 Tvk 2nd Link Road, Kodungiyur, Chennai, State Of Tamil Nadu, India, 600118'}, {'Name': 'arc Builders', 'Contact No': '080565 35925', 'Address': 'India, 625009'}, {'Name': 'Stanly Constructions', 'Contact No': '090259 24447', 'Address': 'India, 641602'}, {'Name': 'AMMAN BUILDERS', 'Contact No': '099408 12015', 'Address': 'India, 641006'}, {'Name': 'Aslam', 'Contact No': '079754 75834', 'Address': 'India, 632517'}, {'Name': 'RD', 'Contact No': '099415 92482', 'Address': 'India, 604203'}, {'Name': 'JMY CONSTRUCTION', 'Contact No': '090954 82740', 'Address': 'India, 610105'}, {'Name': 'Sarath', 'Contact No': 'View Phone Number', 'Address': 'Mannargudi, State Of Tamil Nadu, India, 614016'}, {'Name': 'MSK BUILDERS', 'Contact No': '086676 71305', 'Address': 'India, 600047'}, {'Name': 'Nanda construction', 'Contact No': '079961 73159', 'Address': 'India, 606603'}, {'Name': 'Mano', 'Contact No': '086103 39898', 'Address': 'India, 627862'}, {'Name': 'Olive Constructions', 'Contact No': '091766 68781', 'Address': 'India, 600099'}, {'Name': 'Vigneshsivan infra', 'Contact No': '077086 43747', 'Address': 'India, 638182'}, {'Name': 'Muruganandam Thangavel', 'Contact No': '094430 66888', 'Address': 'India, 638402'}, {'Name': 'Cccl', 'Contact No': '097385 78779', 'Address': 'Hosur, Hosur, State Of Tamil Nadu, India, 635126'}, {'Name': 'Sama Construction and Developments', 'Contact No': '089739 76475', 'Address': 'India, 627751'}, {'Name': 'Cj construction', 'Contact No': '086107 33448', 'Address': 'India, 600116'}, {'Name': 'MY Home Construction', 'Contact No': '086681 81915', 'Address': 'India, 636003'}, {'Name': 'Shaki builders', 'Contact No': '090250 25900', 'Address': 'India, 600056'}, {'Name': 'EJ Enterprises', 'Contact No': '063808 77052', 'Address': 'Rob street, royapettah, chennai, Karampakkam first main road, porur, chennai, Chennai, State Of Tamil Nadu, India, 600114'}, {'Name': 'Anas', 'Contact No': '087546 48316', 'Address': 'India, 614204'}, {'Name': 'Qube structure', 'Contact No': '089398 42850', 'Address': 'India, 600078'}, {'Name': 'GANESH &ASSOCIATES', 'Contact No': '094431 30808', 'Address': 'SIVAKASI, State Of Tamil Nadu, India, 626123'}, {'Name': 'Civil engineer at Ruby builders', 'Contact No': '099405 47977', 'Address': 'Chennai, State Of Tamil Nadu, India, 600116'}, {'Name': 'SK construction', 'Contact No': '962196780', 'Address': 'villupuram, India, 605602'}, {'Name': 's k construction', 'Contact No': '+1 986-528-5888', 'Address': 'Erode, India, 638007'}, {'Name': 'vijay18883', 'Contact No': '099405 44644', 'Address': 'coimbatore, India, 641107'}, {'Name': 'gemini decors', 'Contact No': '098421 92123', 'Address': 'madurai, India, 625005'}, {'Name': 'zenomic', 'Contact No': '091767 10187', 'Address': 'Chennai, India, 600042'}, {'Name': 's cube studios', 'Contact No': '096268 61672', 'Address': 'Tiruppur, State Of Tamil Nadu, India, 641652'}, {'Name': 'WILLIAM BUILDERS', 'Contact No': '082209 90110', 'Address': 'India, 620001'}, {'Name': 'Kumarai enterprise', 'Contact No': '097878 04555', 'Address': 'India, 641031'}, {'Name': 'PSG ASSOCIATES MADURAI', 'Contact No': '095245 18265', 'Address': '101, MAGAGANAPATHY NAGAR, OPP TO POWER HOUSE, MADURAI, PARAVAI, Madurai, State Of Tamil Nadu, India, 625402'}, {'Name': 'emara', 'Contact No': '090941 65529', 'Address': 'India, 600005'}, {'Name': 'Maaguru  construction', 'Contact No': '088700 31651', 'Address': 'India, 600054'}, {'Name': 'Sri Vidhya Builders', 'Contact No': '099658 56816', 'Address': 'U /75, Anaiyur, Madurai, Madurai, State Of Tamil Nadu, India, 625017'}, {'Name': 'Surya construction', 'Contact No': '086081 51519', 'Address': 'India, 600073'}, {'Name': 'Lh builders', 'Contact No': 'View Phone Number', 'Address': 'India, 627425'}, {'Name': 'Jansi construction', 'Contact No': '086670 07378', 'Address': 'India, 600052'}, {'Name': 'SK construction', 'Contact No': '962196780', 'Address': 'villupuram, India, 605602'}, {'Name': 'Civil engineer at Ruby builders', 'Contact No': '099405 47977', 'Address': 'Chennai, State Of Tamil Nadu, India, 600116'}, {'Name': 's k construction', 'Contact No': '+1 986-528-5888', 'Address': 'Erode, India, 638007'}, {'Name': 'vijay18883', 'Contact No': '099405 44644', 'Address': 'coimbatore, India, 641107'}, {'Name': 'GANESH &ASSOCIATES', 'Contact No': '094431 30808', 'Address': 'SIVAKASI, State Of Tamil Nadu, India, 626123'}, {'Name': 'gemini decors', 'Contact No': '098421 92123', 'Address': 'madurai, India, 625005'}, {'Name': 'zenomic', 'Contact No': '091767 10187', 'Address': 'Chennai, India, 600042'}, {'Name': 's cube studios', 'Contact No': '096268 61672', 'Address': 'Tiruppur, State Of Tamil Nadu, India, 641652'}, {'Name': 'WILLIAM BUILDERS', 'Contact No': '082209 90110', 'Address': 'India, 620001'}, {'Name': 'Kumarai enterprise', 'Contact No': '097878 04555', 'Address': 'India, 641031'}, {'Name': 'PSG ASSOCIATES MADURAI', 'Contact No': '095245 18265', 'Address': '101, MAGAGANAPATHY NAGAR, OPP TO POWER HOUSE, MADURAI, PARAVAI, Madurai, State Of Tamil Nadu, India, 625402'}, {'Name': 'emara', 'Contact No': '090941 65529', 'Address': 'India, 600005'}, {'Name': 'Maaguru  construction', 'Contact No': '088700 31651', 'Address': 'India, 600054'}, {'Name': 'zenomic', 'Contact No': 'View Phone Number', 'Address': 'Chennai, India, 600042'}, {'Name': 'gemini decors', 'Contact No': '098421 92123', 'Address': 'madurai, India, 625005'}, {'Name': 'WILLIAM BUILDERS', 'Contact No': '082209 90110', 'Address': 'India, 620001'}, {'Name': 'Kumarai enterprise', 'Contact No': '097878 04555', 'Address': 'India, 641031'}, {'Name': 'PSG ASSOCIATES MADURAI', 'Contact No': '095245 18265', 'Address': '101, MAGAGANAPATHY NAGAR, OPP TO POWER HOUSE, MADURAI, PARAVAI, Madurai, State Of Tamil Nadu, India, 625402'}, {'Name': 'emara', 'Contact No': '090941 65529', 'Address': 'India, 600005'}, {'Name': 'Maaguru  construction', 'Contact No': '088700 31651', 'Address': 'India, 600054'}, {'Name': 'Sri Vidhya Builders', 'Contact No': '099658 56816', 'Address': 'U /75, Anaiyur, Madurai, Madurai, State Of Tamil Nadu, India, 625017'}, {'Name': 'Surya construction', 'Contact No': '086081 51519', 'Address': 'India, 600073'}, {'Name': 'KN CONSTRUCTIONS', 'Contact No': '080720 54517', 'Address': 'India, 600054'}, {'Name': 'Bakya slot', 'Contact No': '072990 41977', 'Address': 'India, 603209'}, {'Name': 'Rehoboth Homes', 'Contact No': '088385 25389', 'Address': 'India, 606801'}, {'Name': 'Sethuraman G', 'Contact No': '089037 26492', 'Address': 'India, 621212'}, {'Name': 'Faith foundation', 'Contact No': '098416 89595', 'Address': 'India, 600080'}, {'Name': 'RAMANIBUILDERS', 'Contact No': '081484 65676', 'Address': 'India, 600075'}, {'Name': 'Sridhar S gsa', 'Contact No': 'View Phone Number', 'Address': 'India, 632009'}, {'Name': 'KK constitutions', 'Contact No': '082208 13442', 'Address': 'India, 613010'}, {'Name': 'vmconstuction', 'Contact No': '090927 12222', 'Address': 'India, 606604'}, {'Name': 'dream world  constrution', 'Contact No': '087782 42532', 'Address': 'India, 623529'}, {'Name': 'Magdoom Construction Contracting', 'Contact No': '080568 93363', 'Address': 'India, 600044'}, {'Name': 'Siva Raman', 'Contact No': '084897 48407', 'Address': 'India, 625102'}, {'Name': 'Mayan build desins', 'Contact No': '098656 34825', 'Address': 'India, 636455'}, {'Name': 'Shree Mahalakshmi & Co', 'Contact No': '098436 19671', 'Address': 'India, 641028'}, {'Name': 'Vishwa Homes', 'Contact No': '078100 77374', 'Address': 'India, 620003'}, {'Name': 'AJR', 'Contact No': '070103 37399', 'Address': 'India, 606107'}, {'Name': 'Moorthy construction', 'Contact No': '095975 63807', 'Address': 'India, 620006'}, {'Name': 'Kodi builders & consultants', 'Contact No': '096880 61850', 'Address': 'India, 641664'}, {'Name': 'KRM Group', 'Contact No': '097893 36719', 'Address': 'India, 603102'}, {'Name': 'OOC infra', 'Contact No': '097890 23457', 'Address': 'India, 600021'}, {'Name': 'MD Sufaiyan', 'Contact No': '070101 46592', 'Address': 'India, 643001'}, {'Name': 'Ashok', 'Contact No': 'None', 'Address': 'Madurai, India, 625002'}, {'Name': 'senthilnathan.VR', 'Contact No': 'View Phone Number', 'Address': 'Chennai, India, 600087'}, {'Name': 'Lh builders', 'Contact No': '086756 48377', 'Address': 'India, 627425'}, {'Name': 'Jansi construction', 'Contact No': '086670 07378', 'Address': 'India, 600052'}]\n"
          ]
        },
        {
          "output_type": "execute_result",
          "data": {
            "text/plain": [
              "682"
            ]
          },
          "metadata": {},
          "execution_count": 99
        }
      ]
    },
    {
      "cell_type": "code",
      "source": [
        "filename ='/content/DataScraping.csv'\n",
        "with open(filename, 'w', newline='') as f:\n",
        "\tw = csv.DictWriter(f, ['Name','Contact No','Address'])\n",
        "\tw.writeheader()\n",
        "\tfor entry in result:\n",
        "\t\tw.writerow(entry)"
      ],
      "metadata": {
        "id": "-hN5BX5KSq9E"
      },
      "execution_count": null,
      "outputs": []
    }
  ]
}